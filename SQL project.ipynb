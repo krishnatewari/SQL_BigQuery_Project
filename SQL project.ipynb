{
 "cells": [
  {
   "cell_type": "markdown",
   "id": "990a6527",
   "metadata": {},
   "source": [
    "# SQL BUSINESS CASE STUDY"
   ]
  },
  {
   "cell_type": "markdown",
   "id": "dbf7bb36",
   "metadata": {},
   "source": [
    "## Problem Statement:\n",
    "### This business case has information of 100k orders from 2016 to 2018 made at a leading retailer in Brazil. Its features allows viewing an order from multiple dimensions: from order status, price, payment and freight performance to customer location, product attributes and finally reviews written by customers. Analyze and provide some insights and recommendations from given data\n"
   ]
  },
  {
   "cell_type": "markdown",
   "id": "54da4894",
   "metadata": {},
   "source": [
    "## Structure of notebook:\n",
    "> 1. Problem statement and ER Diagram\n",
    "> 2. Initial exploration of dataset like checking the characteristics of data \n",
    "> 3. In-depth Exploration\n",
    "> 4. Evolution of E-commerce orders in the Brazil region \n",
    "> 5. Impact on Economy \n",
    "> 6. Analysis on sales, freight and delivery time\n",
    "> 7. Payment type analysis\n",
    "> 8. Actionable Insights\n",
    "> 9. Recommendations\n"
   ]
  },
  {
   "cell_type": "markdown",
   "id": "56fa4bb7",
   "metadata": {},
   "source": [
    "### Note:\n",
    "> **We will be using the sqlite3 module to load datasets to server and run queries in notebook.**  \n",
    "> **The results of the queries will be saved in a dataframe and subsequent analysis will be done.**   \n",
    "> **Some Datetime based analyses have been done on BigQuery/Colab and results pasted due to limitations of sqlite3**\n",
    "\n",
    "> **In data types mentioned, object type reflects string type in sql** "
   ]
  },
  {
   "cell_type": "code",
   "execution_count": 2,
   "id": "2936b403",
   "metadata": {},
   "outputs": [],
   "source": [
    "import numpy as np\n",
    "import pandas as pd\n",
    "import matplotlib.pyplot as plt\n",
    "import seaborn as sns\n",
    "import sqlite3"
   ]
  },
  {
   "cell_type": "code",
   "execution_count": 92,
   "id": "5ff59104",
   "metadata": {
    "scrolled": false
   },
   "outputs": [
    {
     "data": {
      "text/plain": [
       "['customers',\n",
       " 'geolocation',\n",
       " 'order_items',\n",
       " 'payments',\n",
       " 'order_reviews',\n",
       " 'orders',\n",
       " 'products',\n",
       " 'sellers']"
      ]
     },
     "execution_count": 92,
     "metadata": {},
     "output_type": "execute_result"
    }
   ],
   "source": [
    "tbl_list = ['customers', 'geolocation', 'order_items', 'payments', 'order_reviews', 'orders', 'products', 'sellers']\n",
    "tbl_list"
   ]
  },
  {
   "cell_type": "code",
   "execution_count": 4,
   "id": "20819f32",
   "metadata": {},
   "outputs": [],
   "source": [
    "#read the CSV files\n",
    "\n",
    "customers = pd.read_csv('/Users/krishnatewari/KT Personal/Data Science/Scaler/Projects/ Dataset/customers.csv')\n",
    "geolocation = pd.read_csv('/Users/krishnatewari/KT Personal/Data Science/Scaler/Projects/Dataset/geolocation.csv')\n",
    "order_items = pd.read_csv('/Users/krishnatewari/KT Personal/Data Science/Scaler/Projects/Dataset/order_items.csv')\n",
    "order_reviews = pd.read_csv('/Users/krishnatewari/KT Personal/Data Science/Scaler/Projects/Dataset/order_reviews.csv', encoding= 'ISO-8859-1')\n",
    "orders = pd.read_csv('/Users/krishnatewari/KT Personal/Data Science/Scaler/Projects/Dataset/orders.csv')\n",
    "payments = pd.read_csv('/Users/krishnatewari/KT Personal/Data Science/Scaler/Projects/Dataset/payments.csv')\n",
    "products = pd.read_csv('/Users/krishnatewari/KT Personal/Data Science/Scaler/Projects/Dataset/products.csv')\n",
    "sellers = pd.read_csv('/Users/krishnatewari/KT Personal/Data Science/Scaler/Projects/Dataset/sellers.csv')"
   ]
  },
  {
   "cell_type": "code",
   "execution_count": 5,
   "id": "8d520866",
   "metadata": {},
   "outputs": [],
   "source": [
    "#connect to a database\n",
    "#if the db does not exist, this creates a ____.db file in the current directory\n",
    "\n",
    "conn = sqlite3.connect(\"____.db\") "
   ]
  },
  {
   "cell_type": "code",
   "execution_count": 55,
   "id": "1d9d29f6",
   "metadata": {},
   "outputs": [
    {
     "name": "stderr",
     "output_type": "stream",
     "text": [
      "/Users/krishnatewari/opt/anaconda3/lib/python3.9/site-packages/pandas/core/generic.py:2872: UserWarning: The spaces in these column names will not be changed. In pandas versions < 0.14, spaces were converted to underscores.\n",
      "  sql.to_sql(\n"
     ]
    }
   ],
   "source": [
    "#store tables in the ____.db database:\n",
    "\n",
    "customers.to_sql('customers', conn)\n",
    "geolocation.to_sql('geolocation', conn)\n",
    "order_items.to_sql('order_items', conn)\n",
    "order_reviews.to_sql('order_reviews', conn)\n",
    "orders.to_sql('orders', conn)\n",
    "payments.to_sql('payments', conn)\n",
    "products.to_sql('products', conn)\n",
    "sellers.to_sql('sellers', conn)\n",
    "\n"
   ]
  },
  {
   "cell_type": "markdown",
   "id": "18bccdee",
   "metadata": {},
   "source": [
    "## Exploratory Data Analysis:"
   ]
  },
  {
   "cell_type": "markdown",
   "id": "c493d710",
   "metadata": {},
   "source": [
    "### 1. Customers table:"
   ]
  },
  {
   "cell_type": "code",
   "execution_count": 75,
   "id": "21e5cf04",
   "metadata": {
    "scrolled": true
   },
   "outputs": [
    {
     "data": {
      "text/plain": [
       "customer_id                 object\n",
       "customer_unique_id          object\n",
       "customer_zip_code_prefix     int64\n",
       "customer_city               object\n",
       "customer_state              object\n",
       "dtype: object"
      ]
     },
     "execution_count": 75,
     "metadata": {},
     "output_type": "execute_result"
    }
   ],
   "source": [
    "customers.dtypes    "
   ]
  },
  {
   "cell_type": "code",
   "execution_count": 116,
   "id": "21a2265b",
   "metadata": {},
   "outputs": [
    {
     "data": {
      "text/html": [
       "<div>\n",
       "<style scoped>\n",
       "    .dataframe tbody tr th:only-of-type {\n",
       "        vertical-align: middle;\n",
       "    }\n",
       "\n",
       "    .dataframe tbody tr th {\n",
       "        vertical-align: top;\n",
       "    }\n",
       "\n",
       "    .dataframe thead th {\n",
       "        text-align: right;\n",
       "    }\n",
       "</style>\n",
       "<table border=\"1\" class=\"dataframe\">\n",
       "  <thead>\n",
       "    <tr style=\"text-align: right;\">\n",
       "      <th></th>\n",
       "      <th>no_of_rows</th>\n",
       "    </tr>\n",
       "  </thead>\n",
       "  <tbody>\n",
       "    <tr>\n",
       "      <th>0</th>\n",
       "      <td>99441</td>\n",
       "    </tr>\n",
       "  </tbody>\n",
       "</table>\n",
       "</div>"
      ],
      "text/plain": [
       "   no_of_rows\n",
       "0       99441"
      ]
     },
     "execution_count": 116,
     "metadata": {},
     "output_type": "execute_result"
    }
   ],
   "source": [
    "# number of rows\n",
    "query = ''' SELECT\n",
    "  COUNT(*) as no_of_rows\n",
    "FROM customers'''\n",
    "res = pd.read_sql(query, conn)\n",
    "res"
   ]
  },
  {
   "cell_type": "code",
   "execution_count": 127,
   "id": "3af100fc",
   "metadata": {},
   "outputs": [
    {
     "data": {
      "text/html": [
       "<div>\n",
       "<style scoped>\n",
       "    .dataframe tbody tr th:only-of-type {\n",
       "        vertical-align: middle;\n",
       "    }\n",
       "\n",
       "    .dataframe tbody tr th {\n",
       "        vertical-align: top;\n",
       "    }\n",
       "\n",
       "    .dataframe thead th {\n",
       "        text-align: right;\n",
       "    }\n",
       "</style>\n",
       "<table border=\"1\" class=\"dataframe\">\n",
       "  <thead>\n",
       "    <tr style=\"text-align: right;\">\n",
       "      <th></th>\n",
       "      <th>no_of_null_customerid</th>\n",
       "    </tr>\n",
       "  </thead>\n",
       "  <tbody>\n",
       "    <tr>\n",
       "      <th>0</th>\n",
       "      <td>0</td>\n",
       "    </tr>\n",
       "  </tbody>\n",
       "</table>\n",
       "</div>"
      ],
      "text/plain": [
       "   no_of_null_customerid\n",
       "0                      0"
      ]
     },
     "execution_count": 127,
     "metadata": {},
     "output_type": "execute_result"
    }
   ],
   "source": [
    "# number of null values in customer_id\n",
    "\n",
    "query = ''' SELECT\n",
    "  COUNT(*) as no_of_null_customerid\n",
    "FROM customers\n",
    "where customer_id is null or trim(customer_id) = \"\" '''\n",
    "res = pd.read_sql(query, conn)\n",
    "res"
   ]
  },
  {
   "cell_type": "code",
   "execution_count": 97,
   "id": "f897bf71",
   "metadata": {
    "scrolled": true
   },
   "outputs": [
    {
     "data": {
      "text/html": [
       "<div>\n",
       "<style scoped>\n",
       "    .dataframe tbody tr th:only-of-type {\n",
       "        vertical-align: middle;\n",
       "    }\n",
       "\n",
       "    .dataframe tbody tr th {\n",
       "        vertical-align: top;\n",
       "    }\n",
       "\n",
       "    .dataframe thead th {\n",
       "        text-align: right;\n",
       "    }\n",
       "</style>\n",
       "<table border=\"1\" class=\"dataframe\">\n",
       "  <thead>\n",
       "    <tr style=\"text-align: right;\">\n",
       "      <th></th>\n",
       "      <th>no_of_unique_customers</th>\n",
       "    </tr>\n",
       "  </thead>\n",
       "  <tbody>\n",
       "    <tr>\n",
       "      <th>0</th>\n",
       "      <td>96096</td>\n",
       "    </tr>\n",
       "  </tbody>\n",
       "</table>\n",
       "</div>"
      ],
      "text/plain": [
       "   no_of_unique_customers\n",
       "0                   96096"
      ]
     },
     "execution_count": 97,
     "metadata": {},
     "output_type": "execute_result"
    }
   ],
   "source": [
    "#finding number of unique customers\n",
    "\n",
    "query = '''SELECT\n",
    "  COUNT(DISTINCT customer_unique_id) as no_of_unique_customers\n",
    "FROM customers'''\n",
    "res = pd.read_sql(query, conn)\n",
    "res"
   ]
  },
  {
   "cell_type": "code",
   "execution_count": 120,
   "id": "5a201234",
   "metadata": {},
   "outputs": [
    {
     "data": {
      "text/html": [
       "<div>\n",
       "<style scoped>\n",
       "    .dataframe tbody tr th:only-of-type {\n",
       "        vertical-align: middle;\n",
       "    }\n",
       "\n",
       "    .dataframe tbody tr th {\n",
       "        vertical-align: top;\n",
       "    }\n",
       "\n",
       "    .dataframe thead th {\n",
       "        text-align: right;\n",
       "    }\n",
       "</style>\n",
       "<table border=\"1\" class=\"dataframe\">\n",
       "  <thead>\n",
       "    <tr style=\"text-align: right;\">\n",
       "      <th></th>\n",
       "      <th>no_of_customer_cities</th>\n",
       "    </tr>\n",
       "  </thead>\n",
       "  <tbody>\n",
       "    <tr>\n",
       "      <th>0</th>\n",
       "      <td>4119</td>\n",
       "    </tr>\n",
       "  </tbody>\n",
       "</table>\n",
       "</div>"
      ],
      "text/plain": [
       "   no_of_customer_cities\n",
       "0                   4119"
      ]
     },
     "execution_count": 120,
     "metadata": {},
     "output_type": "execute_result"
    }
   ],
   "source": [
    "# number of customer cities\n",
    "\n",
    "query = ''' SELECT\n",
    "  COUNT(DISTINCT customer_city) as no_of_customer_cities\n",
    "FROM customers'''\n",
    "res = pd.read_sql(query, conn)\n",
    "res"
   ]
  },
  {
   "cell_type": "code",
   "execution_count": 131,
   "id": "cb285fd8",
   "metadata": {
    "scrolled": true
   },
   "outputs": [
    {
     "data": {
      "text/html": [
       "<div>\n",
       "<style scoped>\n",
       "    .dataframe tbody tr th:only-of-type {\n",
       "        vertical-align: middle;\n",
       "    }\n",
       "\n",
       "    .dataframe tbody tr th {\n",
       "        vertical-align: top;\n",
       "    }\n",
       "\n",
       "    .dataframe thead th {\n",
       "        text-align: right;\n",
       "    }\n",
       "</style>\n",
       "<table border=\"1\" class=\"dataframe\">\n",
       "  <thead>\n",
       "    <tr style=\"text-align: right;\">\n",
       "      <th></th>\n",
       "      <th>customer_cities</th>\n",
       "    </tr>\n",
       "  </thead>\n",
       "  <tbody>\n",
       "    <tr>\n",
       "      <th>0</th>\n",
       "      <td>franca</td>\n",
       "    </tr>\n",
       "    <tr>\n",
       "      <th>1</th>\n",
       "      <td>sao bernardo do campo</td>\n",
       "    </tr>\n",
       "    <tr>\n",
       "      <th>2</th>\n",
       "      <td>sao paulo</td>\n",
       "    </tr>\n",
       "    <tr>\n",
       "      <th>3</th>\n",
       "      <td>mogi das cruzes</td>\n",
       "    </tr>\n",
       "    <tr>\n",
       "      <th>4</th>\n",
       "      <td>campinas</td>\n",
       "    </tr>\n",
       "  </tbody>\n",
       "</table>\n",
       "</div>"
      ],
      "text/plain": [
       "         customer_cities\n",
       "0                 franca\n",
       "1  sao bernardo do campo\n",
       "2              sao paulo\n",
       "3        mogi das cruzes\n",
       "4               campinas"
      ]
     },
     "execution_count": 131,
     "metadata": {},
     "output_type": "execute_result"
    }
   ],
   "source": [
    "# A few customer cities covered\n",
    "\n",
    "query = ''' SELECT\n",
    "  DISTINCT customer_city as customer_cities\n",
    "FROM customers\n",
    "limit 5'''\n",
    "res = pd.read_sql(query, conn)\n",
    "res"
   ]
  },
  {
   "cell_type": "code",
   "execution_count": 122,
   "id": "ca7d568d",
   "metadata": {},
   "outputs": [
    {
     "data": {
      "text/html": [
       "<div>\n",
       "<style scoped>\n",
       "    .dataframe tbody tr th:only-of-type {\n",
       "        vertical-align: middle;\n",
       "    }\n",
       "\n",
       "    .dataframe tbody tr th {\n",
       "        vertical-align: top;\n",
       "    }\n",
       "\n",
       "    .dataframe thead th {\n",
       "        text-align: right;\n",
       "    }\n",
       "</style>\n",
       "<table border=\"1\" class=\"dataframe\">\n",
       "  <thead>\n",
       "    <tr style=\"text-align: right;\">\n",
       "      <th></th>\n",
       "      <th>no_of_customer_states</th>\n",
       "    </tr>\n",
       "  </thead>\n",
       "  <tbody>\n",
       "    <tr>\n",
       "      <th>0</th>\n",
       "      <td>27</td>\n",
       "    </tr>\n",
       "  </tbody>\n",
       "</table>\n",
       "</div>"
      ],
      "text/plain": [
       "   no_of_customer_states\n",
       "0                     27"
      ]
     },
     "execution_count": 122,
     "metadata": {},
     "output_type": "execute_result"
    }
   ],
   "source": [
    "# number of customer states covered\n",
    "\n",
    "query = ''' SELECT\n",
    "  COUNT(DISTINCT customer_state) as no_of_customer_states\n",
    "FROM customers'''\n",
    "res = pd.read_sql(query, conn)\n",
    "res"
   ]
  },
  {
   "cell_type": "code",
   "execution_count": 130,
   "id": "87dc9beb",
   "metadata": {},
   "outputs": [
    {
     "data": {
      "text/html": [
       "<div>\n",
       "<style scoped>\n",
       "    .dataframe tbody tr th:only-of-type {\n",
       "        vertical-align: middle;\n",
       "    }\n",
       "\n",
       "    .dataframe tbody tr th {\n",
       "        vertical-align: top;\n",
       "    }\n",
       "\n",
       "    .dataframe thead th {\n",
       "        text-align: right;\n",
       "    }\n",
       "</style>\n",
       "<table border=\"1\" class=\"dataframe\">\n",
       "  <thead>\n",
       "    <tr style=\"text-align: right;\">\n",
       "      <th></th>\n",
       "      <th>customer_states</th>\n",
       "    </tr>\n",
       "  </thead>\n",
       "  <tbody>\n",
       "    <tr>\n",
       "      <th>0</th>\n",
       "      <td>SP</td>\n",
       "    </tr>\n",
       "    <tr>\n",
       "      <th>1</th>\n",
       "      <td>SC</td>\n",
       "    </tr>\n",
       "    <tr>\n",
       "      <th>2</th>\n",
       "      <td>MG</td>\n",
       "    </tr>\n",
       "    <tr>\n",
       "      <th>3</th>\n",
       "      <td>PR</td>\n",
       "    </tr>\n",
       "    <tr>\n",
       "      <th>4</th>\n",
       "      <td>RJ</td>\n",
       "    </tr>\n",
       "  </tbody>\n",
       "</table>\n",
       "</div>"
      ],
      "text/plain": [
       "  customer_states\n",
       "0              SP\n",
       "1              SC\n",
       "2              MG\n",
       "3              PR\n",
       "4              RJ"
      ]
     },
     "execution_count": 130,
     "metadata": {},
     "output_type": "execute_result"
    }
   ],
   "source": [
    "# A few customer states covered\n",
    "\n",
    "query = ''' SELECT\n",
    "  DISTINCT customer_state as customer_states\n",
    "FROM customers\n",
    "limit 5'''\n",
    "res = pd.read_sql(query, conn)\n",
    "res"
   ]
  },
  {
   "cell_type": "markdown",
   "id": "04ad7588",
   "metadata": {},
   "source": [
    "### 2. Geolocations Table:"
   ]
  },
  {
   "cell_type": "code",
   "execution_count": 76,
   "id": "b08b758b",
   "metadata": {
    "scrolled": true
   },
   "outputs": [
    {
     "data": {
      "text/plain": [
       "geolocation_zip_code_prefix      int64\n",
       "geolocation_lat                float64\n",
       "geolocation_lng                float64\n",
       "geolocation_city                object\n",
       "geolocation_state               object\n",
       "dtype: object"
      ]
     },
     "execution_count": 76,
     "metadata": {},
     "output_type": "execute_result"
    }
   ],
   "source": [
    "geolocation.dtypes"
   ]
  },
  {
   "cell_type": "code",
   "execution_count": 118,
   "id": "1776ddd1",
   "metadata": {},
   "outputs": [
    {
     "data": {
      "text/html": [
       "<div>\n",
       "<style scoped>\n",
       "    .dataframe tbody tr th:only-of-type {\n",
       "        vertical-align: middle;\n",
       "    }\n",
       "\n",
       "    .dataframe tbody tr th {\n",
       "        vertical-align: top;\n",
       "    }\n",
       "\n",
       "    .dataframe thead th {\n",
       "        text-align: right;\n",
       "    }\n",
       "</style>\n",
       "<table border=\"1\" class=\"dataframe\">\n",
       "  <thead>\n",
       "    <tr style=\"text-align: right;\">\n",
       "      <th></th>\n",
       "      <th>no_of_rows</th>\n",
       "    </tr>\n",
       "  </thead>\n",
       "  <tbody>\n",
       "    <tr>\n",
       "      <th>0</th>\n",
       "      <td>1000163</td>\n",
       "    </tr>\n",
       "  </tbody>\n",
       "</table>\n",
       "</div>"
      ],
      "text/plain": [
       "   no_of_rows\n",
       "0     1000163"
      ]
     },
     "execution_count": 118,
     "metadata": {},
     "output_type": "execute_result"
    }
   ],
   "source": [
    "# number of rows\n",
    "\n",
    "query = ''' SELECT\n",
    "  COUNT(*) as no_of_rows\n",
    "FROM geolocation'''\n",
    "res = pd.read_sql(query, conn)\n",
    "res"
   ]
  },
  {
   "cell_type": "code",
   "execution_count": 129,
   "id": "fb7fbab2",
   "metadata": {},
   "outputs": [
    {
     "data": {
      "text/html": [
       "<div>\n",
       "<style scoped>\n",
       "    .dataframe tbody tr th:only-of-type {\n",
       "        vertical-align: middle;\n",
       "    }\n",
       "\n",
       "    .dataframe tbody tr th {\n",
       "        vertical-align: top;\n",
       "    }\n",
       "\n",
       "    .dataframe thead th {\n",
       "        text-align: right;\n",
       "    }\n",
       "</style>\n",
       "<table border=\"1\" class=\"dataframe\">\n",
       "  <thead>\n",
       "    <tr style=\"text-align: right;\">\n",
       "      <th></th>\n",
       "      <th>no_of_null_zipcode_prefix</th>\n",
       "    </tr>\n",
       "  </thead>\n",
       "  <tbody>\n",
       "    <tr>\n",
       "      <th>0</th>\n",
       "      <td>0</td>\n",
       "    </tr>\n",
       "  </tbody>\n",
       "</table>\n",
       "</div>"
      ],
      "text/plain": [
       "   no_of_null_zipcode_prefix\n",
       "0                          0"
      ]
     },
     "execution_count": 129,
     "metadata": {},
     "output_type": "execute_result"
    }
   ],
   "source": [
    "# number of null values in geolocation_zip_code_prefix\n",
    "\n",
    "query = ''' SELECT\n",
    "  COUNT(*) as no_of_null_zipcode_prefix\n",
    "FROM geolocation\n",
    "where geolocation_zip_code_prefix is null or trim(geolocation_zip_code_prefix) = \"\" '''\n",
    "res = pd.read_sql(query, conn)\n",
    "res"
   ]
  },
  {
   "cell_type": "code",
   "execution_count": 119,
   "id": "892d1f81",
   "metadata": {},
   "outputs": [
    {
     "data": {
      "text/html": [
       "<div>\n",
       "<style scoped>\n",
       "    .dataframe tbody tr th:only-of-type {\n",
       "        vertical-align: middle;\n",
       "    }\n",
       "\n",
       "    .dataframe tbody tr th {\n",
       "        vertical-align: top;\n",
       "    }\n",
       "\n",
       "    .dataframe thead th {\n",
       "        text-align: right;\n",
       "    }\n",
       "</style>\n",
       "<table border=\"1\" class=\"dataframe\">\n",
       "  <thead>\n",
       "    <tr style=\"text-align: right;\">\n",
       "      <th></th>\n",
       "      <th>no_of_cities</th>\n",
       "    </tr>\n",
       "  </thead>\n",
       "  <tbody>\n",
       "    <tr>\n",
       "      <th>0</th>\n",
       "      <td>8011</td>\n",
       "    </tr>\n",
       "  </tbody>\n",
       "</table>\n",
       "</div>"
      ],
      "text/plain": [
       "   no_of_cities\n",
       "0          8011"
      ]
     },
     "execution_count": 119,
     "metadata": {},
     "output_type": "execute_result"
    }
   ],
   "source": [
    "# number of cities covered in dataset\n",
    "\n",
    "query = ''' SELECT\n",
    "  COUNT(DISTINCT geolocation_city) as no_of_cities\n",
    "FROM geolocation'''\n",
    "res = pd.read_sql(query, conn)\n",
    "res"
   ]
  },
  {
   "cell_type": "markdown",
   "id": "f68d7e3d",
   "metadata": {},
   "source": [
    ">- Customer cities were only 4119 while dataset has 8011 cities\n",
    ">- **No orders placed from roughly half of the cities**\n",
    ">- Means customer distribution is non-uniform"
   ]
  },
  {
   "cell_type": "code",
   "execution_count": 124,
   "id": "e71e37fe",
   "metadata": {},
   "outputs": [
    {
     "data": {
      "text/html": [
       "<div>\n",
       "<style scoped>\n",
       "    .dataframe tbody tr th:only-of-type {\n",
       "        vertical-align: middle;\n",
       "    }\n",
       "\n",
       "    .dataframe tbody tr th {\n",
       "        vertical-align: top;\n",
       "    }\n",
       "\n",
       "    .dataframe thead th {\n",
       "        text-align: right;\n",
       "    }\n",
       "</style>\n",
       "<table border=\"1\" class=\"dataframe\">\n",
       "  <thead>\n",
       "    <tr style=\"text-align: right;\">\n",
       "      <th></th>\n",
       "      <th>no_of_states</th>\n",
       "    </tr>\n",
       "  </thead>\n",
       "  <tbody>\n",
       "    <tr>\n",
       "      <th>0</th>\n",
       "      <td>27</td>\n",
       "    </tr>\n",
       "  </tbody>\n",
       "</table>\n",
       "</div>"
      ],
      "text/plain": [
       "   no_of_states\n",
       "0            27"
      ]
     },
     "execution_count": 124,
     "metadata": {},
     "output_type": "execute_result"
    }
   ],
   "source": [
    "# number of states covered in dataset\n",
    "\n",
    "query = ''' SELECT\n",
    "  COUNT(DISTINCT geolocation_state) as no_of_states\n",
    "FROM geolocation'''\n",
    "res = pd.read_sql(query, conn)\n",
    "res"
   ]
  },
  {
   "cell_type": "markdown",
   "id": "bf51b75e",
   "metadata": {},
   "source": [
    ">- Orders placed from all the states showing distribution over all the states"
   ]
  },
  {
   "cell_type": "markdown",
   "id": "9ccc5d91",
   "metadata": {},
   "source": [
    "### 3. Seller table:"
   ]
  },
  {
   "cell_type": "code",
   "execution_count": 83,
   "id": "fa4dd3c8",
   "metadata": {
    "scrolled": true
   },
   "outputs": [
    {
     "data": {
      "text/plain": [
       "seller_id                 object\n",
       "seller_zip_code_prefix     int64\n",
       "seller_city               object\n",
       "seller_state              object\n",
       "dtype: object"
      ]
     },
     "execution_count": 83,
     "metadata": {},
     "output_type": "execute_result"
    }
   ],
   "source": [
    "sellers.dtypes"
   ]
  },
  {
   "cell_type": "code",
   "execution_count": 132,
   "id": "d2f01858",
   "metadata": {},
   "outputs": [
    {
     "data": {
      "text/html": [
       "<div>\n",
       "<style scoped>\n",
       "    .dataframe tbody tr th:only-of-type {\n",
       "        vertical-align: middle;\n",
       "    }\n",
       "\n",
       "    .dataframe tbody tr th {\n",
       "        vertical-align: top;\n",
       "    }\n",
       "\n",
       "    .dataframe thead th {\n",
       "        text-align: right;\n",
       "    }\n",
       "</style>\n",
       "<table border=\"1\" class=\"dataframe\">\n",
       "  <thead>\n",
       "    <tr style=\"text-align: right;\">\n",
       "      <th></th>\n",
       "      <th>no_of_rows</th>\n",
       "    </tr>\n",
       "  </thead>\n",
       "  <tbody>\n",
       "    <tr>\n",
       "      <th>0</th>\n",
       "      <td>3095</td>\n",
       "    </tr>\n",
       "  </tbody>\n",
       "</table>\n",
       "</div>"
      ],
      "text/plain": [
       "   no_of_rows\n",
       "0        3095"
      ]
     },
     "execution_count": 132,
     "metadata": {},
     "output_type": "execute_result"
    }
   ],
   "source": [
    "# number of rows\n",
    "\n",
    "query = ''' SELECT\n",
    "  COUNT(*) as no_of_rows\n",
    "FROM sellers'''\n",
    "res = pd.read_sql(query, conn)\n",
    "res"
   ]
  },
  {
   "cell_type": "code",
   "execution_count": 133,
   "id": "4137f899",
   "metadata": {},
   "outputs": [
    {
     "data": {
      "text/html": [
       "<div>\n",
       "<style scoped>\n",
       "    .dataframe tbody tr th:only-of-type {\n",
       "        vertical-align: middle;\n",
       "    }\n",
       "\n",
       "    .dataframe tbody tr th {\n",
       "        vertical-align: top;\n",
       "    }\n",
       "\n",
       "    .dataframe thead th {\n",
       "        text-align: right;\n",
       "    }\n",
       "</style>\n",
       "<table border=\"1\" class=\"dataframe\">\n",
       "  <thead>\n",
       "    <tr style=\"text-align: right;\">\n",
       "      <th></th>\n",
       "      <th>no_of_null_seller_id</th>\n",
       "    </tr>\n",
       "  </thead>\n",
       "  <tbody>\n",
       "    <tr>\n",
       "      <th>0</th>\n",
       "      <td>0</td>\n",
       "    </tr>\n",
       "  </tbody>\n",
       "</table>\n",
       "</div>"
      ],
      "text/plain": [
       "   no_of_null_seller_id\n",
       "0                     0"
      ]
     },
     "execution_count": 133,
     "metadata": {},
     "output_type": "execute_result"
    }
   ],
   "source": [
    "# number of null values in seller_id\n",
    "\n",
    "query = ''' SELECT\n",
    "  COUNT(*) as no_of_null_seller_id\n",
    "FROM sellers\n",
    "where seller_id is null or trim(seller_id) = \"\" '''\n",
    "res = pd.read_sql(query, conn)\n",
    "res"
   ]
  },
  {
   "cell_type": "code",
   "execution_count": 134,
   "id": "ca023985",
   "metadata": {},
   "outputs": [
    {
     "data": {
      "text/html": [
       "<div>\n",
       "<style scoped>\n",
       "    .dataframe tbody tr th:only-of-type {\n",
       "        vertical-align: middle;\n",
       "    }\n",
       "\n",
       "    .dataframe tbody tr th {\n",
       "        vertical-align: top;\n",
       "    }\n",
       "\n",
       "    .dataframe thead th {\n",
       "        text-align: right;\n",
       "    }\n",
       "</style>\n",
       "<table border=\"1\" class=\"dataframe\">\n",
       "  <thead>\n",
       "    <tr style=\"text-align: right;\">\n",
       "      <th></th>\n",
       "      <th>no_of_cities</th>\n",
       "    </tr>\n",
       "  </thead>\n",
       "  <tbody>\n",
       "    <tr>\n",
       "      <th>0</th>\n",
       "      <td>611</td>\n",
       "    </tr>\n",
       "  </tbody>\n",
       "</table>\n",
       "</div>"
      ],
      "text/plain": [
       "   no_of_cities\n",
       "0           611"
      ]
     },
     "execution_count": 134,
     "metadata": {},
     "output_type": "execute_result"
    }
   ],
   "source": [
    "# number of cities covered in dataset\n",
    "\n",
    "query = ''' SELECT\n",
    "  COUNT(DISTINCT seller_city) as no_of_cities\n",
    "FROM sellers'''\n",
    "res = pd.read_sql(query, conn)\n",
    "res"
   ]
  },
  {
   "cell_type": "markdown",
   "id": "0323af6d",
   "metadata": {},
   "source": [
    ">- Selling happens from only 611 cities against ~8000 total cities and ~4000 customer cities\n",
    ">- It shows **sellers are concentrated in few cities only**"
   ]
  },
  {
   "cell_type": "code",
   "execution_count": 135,
   "id": "022dadfb",
   "metadata": {},
   "outputs": [
    {
     "data": {
      "text/html": [
       "<div>\n",
       "<style scoped>\n",
       "    .dataframe tbody tr th:only-of-type {\n",
       "        vertical-align: middle;\n",
       "    }\n",
       "\n",
       "    .dataframe tbody tr th {\n",
       "        vertical-align: top;\n",
       "    }\n",
       "\n",
       "    .dataframe thead th {\n",
       "        text-align: right;\n",
       "    }\n",
       "</style>\n",
       "<table border=\"1\" class=\"dataframe\">\n",
       "  <thead>\n",
       "    <tr style=\"text-align: right;\">\n",
       "      <th></th>\n",
       "      <th>no_of_states</th>\n",
       "    </tr>\n",
       "  </thead>\n",
       "  <tbody>\n",
       "    <tr>\n",
       "      <th>0</th>\n",
       "      <td>23</td>\n",
       "    </tr>\n",
       "  </tbody>\n",
       "</table>\n",
       "</div>"
      ],
      "text/plain": [
       "   no_of_states\n",
       "0            23"
      ]
     },
     "execution_count": 135,
     "metadata": {},
     "output_type": "execute_result"
    }
   ],
   "source": [
    "# number of states covered in dataset\n",
    "\n",
    "query = ''' SELECT\n",
    "  COUNT(DISTINCT seller_state) as no_of_states\n",
    "FROM sellers'''\n",
    "res = pd.read_sql(query, conn)\n",
    "res"
   ]
  },
  {
   "cell_type": "markdown",
   "id": "a0850ee2",
   "metadata": {},
   "source": [
    ">- Sellers not present in 4 out of total 27 states"
   ]
  },
  {
   "cell_type": "markdown",
   "id": "23884341",
   "metadata": {},
   "source": [
    "### 4. Products table"
   ]
  },
  {
   "cell_type": "code",
   "execution_count": 82,
   "id": "7c6e713b",
   "metadata": {
    "scrolled": true
   },
   "outputs": [
    {
     "data": {
      "text/plain": [
       "product_id                     object\n",
       "product category               object\n",
       "product_name_length           float64\n",
       "product_description_length    float64\n",
       "product_photos_qty            float64\n",
       "product_weight_g              float64\n",
       "product_length_cm             float64\n",
       "product_height_cm             float64\n",
       "product_width_cm              float64\n",
       "dtype: object"
      ]
     },
     "execution_count": 82,
     "metadata": {},
     "output_type": "execute_result"
    }
   ],
   "source": [
    "products.dtypes"
   ]
  },
  {
   "cell_type": "code",
   "execution_count": 136,
   "id": "81cfd841",
   "metadata": {},
   "outputs": [
    {
     "data": {
      "text/html": [
       "<div>\n",
       "<style scoped>\n",
       "    .dataframe tbody tr th:only-of-type {\n",
       "        vertical-align: middle;\n",
       "    }\n",
       "\n",
       "    .dataframe tbody tr th {\n",
       "        vertical-align: top;\n",
       "    }\n",
       "\n",
       "    .dataframe thead th {\n",
       "        text-align: right;\n",
       "    }\n",
       "</style>\n",
       "<table border=\"1\" class=\"dataframe\">\n",
       "  <thead>\n",
       "    <tr style=\"text-align: right;\">\n",
       "      <th></th>\n",
       "      <th>no_of_rows</th>\n",
       "    </tr>\n",
       "  </thead>\n",
       "  <tbody>\n",
       "    <tr>\n",
       "      <th>0</th>\n",
       "      <td>32951</td>\n",
       "    </tr>\n",
       "  </tbody>\n",
       "</table>\n",
       "</div>"
      ],
      "text/plain": [
       "   no_of_rows\n",
       "0       32951"
      ]
     },
     "execution_count": 136,
     "metadata": {},
     "output_type": "execute_result"
    }
   ],
   "source": [
    "# number of rows\n",
    "\n",
    "query = ''' SELECT\n",
    "  COUNT(*) as no_of_rows\n",
    "FROM products'''\n",
    "res = pd.read_sql(query, conn)\n",
    "res"
   ]
  },
  {
   "cell_type": "code",
   "execution_count": 137,
   "id": "400fc73b",
   "metadata": {},
   "outputs": [
    {
     "data": {
      "text/html": [
       "<div>\n",
       "<style scoped>\n",
       "    .dataframe tbody tr th:only-of-type {\n",
       "        vertical-align: middle;\n",
       "    }\n",
       "\n",
       "    .dataframe tbody tr th {\n",
       "        vertical-align: top;\n",
       "    }\n",
       "\n",
       "    .dataframe thead th {\n",
       "        text-align: right;\n",
       "    }\n",
       "</style>\n",
       "<table border=\"1\" class=\"dataframe\">\n",
       "  <thead>\n",
       "    <tr style=\"text-align: right;\">\n",
       "      <th></th>\n",
       "      <th>no_of_null_product_id</th>\n",
       "    </tr>\n",
       "  </thead>\n",
       "  <tbody>\n",
       "    <tr>\n",
       "      <th>0</th>\n",
       "      <td>0</td>\n",
       "    </tr>\n",
       "  </tbody>\n",
       "</table>\n",
       "</div>"
      ],
      "text/plain": [
       "   no_of_null_product_id\n",
       "0                      0"
      ]
     },
     "execution_count": 137,
     "metadata": {},
     "output_type": "execute_result"
    }
   ],
   "source": [
    "# number of null values in product_id\n",
    "\n",
    "query = ''' SELECT\n",
    "  COUNT(*) as no_of_null_product_id\n",
    "FROM products\n",
    "where product_id is null or trim(product_id) = \"\" '''\n",
    "res = pd.read_sql(query, conn)\n",
    "res"
   ]
  },
  {
   "cell_type": "code",
   "execution_count": 148,
   "id": "e0a5256f",
   "metadata": {},
   "outputs": [
    {
     "data": {
      "text/html": [
       "<div>\n",
       "<style scoped>\n",
       "    .dataframe tbody tr th:only-of-type {\n",
       "        vertical-align: middle;\n",
       "    }\n",
       "\n",
       "    .dataframe tbody tr th {\n",
       "        vertical-align: top;\n",
       "    }\n",
       "\n",
       "    .dataframe thead th {\n",
       "        text-align: right;\n",
       "    }\n",
       "</style>\n",
       "<table border=\"1\" class=\"dataframe\">\n",
       "  <thead>\n",
       "    <tr style=\"text-align: right;\">\n",
       "      <th></th>\n",
       "      <th>unique_products_count</th>\n",
       "    </tr>\n",
       "  </thead>\n",
       "  <tbody>\n",
       "    <tr>\n",
       "      <th>0</th>\n",
       "      <td>32951</td>\n",
       "    </tr>\n",
       "  </tbody>\n",
       "</table>\n",
       "</div>"
      ],
      "text/plain": [
       "   unique_products_count\n",
       "0                  32951"
      ]
     },
     "execution_count": 148,
     "metadata": {},
     "output_type": "execute_result"
    }
   ],
   "source": [
    "# Number of unique products\n",
    "\n",
    "query = '''SELECT\n",
    "  COUNT(DISTINCT product_id) as unique_products_count\n",
    "FROM products'''\n",
    "res = pd.read_sql(query, conn)\n",
    "res"
   ]
  },
  {
   "cell_type": "markdown",
   "id": "fb4f677c",
   "metadata": {},
   "source": [
    ">- Each row represents a unique product"
   ]
  },
  {
   "cell_type": "code",
   "execution_count": 149,
   "id": "1eb1a2cf",
   "metadata": {},
   "outputs": [
    {
     "data": {
      "text/html": [
       "<div>\n",
       "<style scoped>\n",
       "    .dataframe tbody tr th:only-of-type {\n",
       "        vertical-align: middle;\n",
       "    }\n",
       "\n",
       "    .dataframe tbody tr th {\n",
       "        vertical-align: top;\n",
       "    }\n",
       "\n",
       "    .dataframe thead th {\n",
       "        text-align: right;\n",
       "    }\n",
       "</style>\n",
       "<table border=\"1\" class=\"dataframe\">\n",
       "  <thead>\n",
       "    <tr style=\"text-align: right;\">\n",
       "      <th></th>\n",
       "      <th>unique_product_category_count</th>\n",
       "    </tr>\n",
       "  </thead>\n",
       "  <tbody>\n",
       "    <tr>\n",
       "      <th>0</th>\n",
       "      <td>73</td>\n",
       "    </tr>\n",
       "  </tbody>\n",
       "</table>\n",
       "</div>"
      ],
      "text/plain": [
       "   unique_product_category_count\n",
       "0                             73"
      ]
     },
     "execution_count": 149,
     "metadata": {},
     "output_type": "execute_result"
    }
   ],
   "source": [
    "# number of product categories\n",
    "\n",
    "query = '''SELECT\n",
    "  COUNT(DISTINCT product_category) as unique_product_category_count\n",
    "FROM products'''\n",
    "res = pd.read_sql(query, conn)\n",
    "res"
   ]
  },
  {
   "cell_type": "code",
   "execution_count": 151,
   "id": "d35b0b0d",
   "metadata": {
    "scrolled": true
   },
   "outputs": [
    {
     "data": {
      "text/html": [
       "<div>\n",
       "<style scoped>\n",
       "    .dataframe tbody tr th:only-of-type {\n",
       "        vertical-align: middle;\n",
       "    }\n",
       "\n",
       "    .dataframe tbody tr th {\n",
       "        vertical-align: top;\n",
       "    }\n",
       "\n",
       "    .dataframe thead th {\n",
       "        text-align: right;\n",
       "    }\n",
       "</style>\n",
       "<table border=\"1\" class=\"dataframe\">\n",
       "  <thead>\n",
       "    <tr style=\"text-align: right;\">\n",
       "      <th></th>\n",
       "      <th>unique_product_categories</th>\n",
       "    </tr>\n",
       "  </thead>\n",
       "  <tbody>\n",
       "    <tr>\n",
       "      <th>0</th>\n",
       "      <td>perfumery</td>\n",
       "    </tr>\n",
       "    <tr>\n",
       "      <th>1</th>\n",
       "      <td>Art</td>\n",
       "    </tr>\n",
       "    <tr>\n",
       "      <th>2</th>\n",
       "      <td>sport leisure</td>\n",
       "    </tr>\n",
       "    <tr>\n",
       "      <th>3</th>\n",
       "      <td>babies</td>\n",
       "    </tr>\n",
       "    <tr>\n",
       "      <th>4</th>\n",
       "      <td>housewares</td>\n",
       "    </tr>\n",
       "  </tbody>\n",
       "</table>\n",
       "</div>"
      ],
      "text/plain": [
       "  unique_product_categories\n",
       "0                 perfumery\n",
       "1                       Art\n",
       "2             sport leisure\n",
       "3                    babies\n",
       "4                housewares"
      ]
     },
     "execution_count": 151,
     "metadata": {},
     "output_type": "execute_result"
    }
   ],
   "source": [
    "# few product category names examples\n",
    "\n",
    "query = '''SELECT\n",
    "  DISTINCT product_category as unique_product_categories\n",
    "FROM products\n",
    "limit 5'''\n",
    "res = pd.read_sql(query, conn)\n",
    "res"
   ]
  },
  {
   "cell_type": "code",
   "execution_count": 11,
   "id": "8b3ef7ee",
   "metadata": {},
   "outputs": [
    {
     "data": {
      "text/html": [
       "<div>\n",
       "<style scoped>\n",
       "    .dataframe tbody tr th:only-of-type {\n",
       "        vertical-align: middle;\n",
       "    }\n",
       "\n",
       "    .dataframe tbody tr th {\n",
       "        vertical-align: top;\n",
       "    }\n",
       "\n",
       "    .dataframe thead th {\n",
       "        text-align: right;\n",
       "    }\n",
       "</style>\n",
       "<table border=\"1\" class=\"dataframe\">\n",
       "  <thead>\n",
       "    <tr style=\"text-align: right;\">\n",
       "      <th></th>\n",
       "      <th>product_category</th>\n",
       "      <th>num_of_products</th>\n",
       "    </tr>\n",
       "  </thead>\n",
       "  <tbody>\n",
       "    <tr>\n",
       "      <th>0</th>\n",
       "      <td>bed table bath</td>\n",
       "      <td>3029</td>\n",
       "    </tr>\n",
       "    <tr>\n",
       "      <th>1</th>\n",
       "      <td>sport leisure</td>\n",
       "      <td>2867</td>\n",
       "    </tr>\n",
       "    <tr>\n",
       "      <th>2</th>\n",
       "      <td>Furniture Decoration</td>\n",
       "      <td>2657</td>\n",
       "    </tr>\n",
       "    <tr>\n",
       "      <th>3</th>\n",
       "      <td>HEALTH BEAUTY</td>\n",
       "      <td>2444</td>\n",
       "    </tr>\n",
       "    <tr>\n",
       "      <th>4</th>\n",
       "      <td>housewares</td>\n",
       "      <td>2335</td>\n",
       "    </tr>\n",
       "  </tbody>\n",
       "</table>\n",
       "</div>"
      ],
      "text/plain": [
       "       product_category  num_of_products\n",
       "0        bed table bath             3029\n",
       "1         sport leisure             2867\n",
       "2  Furniture Decoration             2657\n",
       "3         HEALTH BEAUTY             2444\n",
       "4            housewares             2335"
      ]
     },
     "execution_count": 11,
     "metadata": {},
     "output_type": "execute_result"
    },
    {
     "data": {
      "image/png": "[encoded data removed]",
      "text/plain": [
       "<Figure size 432x288 with 1 Axes>"
      ]
     },
     "metadata": {
      "needs_background": "light"
     },
     "output_type": "display_data"
    }
   ],
   "source": [
    "#number of products under each category\n",
    "\n",
    "query = '''\n",
    "SELECT product_category, count(*) as num_of_products FROM\n",
    "products \n",
    "group by product_category\n",
    "\n",
    "having product_category is not null\n",
    "order by count(*) desc'''\n",
    "res = pd.read_sql(query, conn)\n",
    "res.head(10).plot(kind = 'bar', x = 'product_category', rot = 45)\n",
    "res.head(5)"
   ]
  },
  {
   "cell_type": "markdown",
   "id": "6ac13099",
   "metadata": {},
   "source": [
    ">- Most products under bed table bath category at 3029.\n",
    ">- Lowest number of products seen in Kitchen portable and food coach and La Cuisine at 10 products each\n",
    ">- Top 5 categories have number of products greater than 2000\n",
    ">- Bottom 5 categories have 10-20 products each"
   ]
  },
  {
   "cell_type": "code",
   "execution_count": 318,
   "id": "7eb36e6d",
   "metadata": {},
   "outputs": [
    {
     "data": {
      "text/html": [
       "<div>\n",
       "<style scoped>\n",
       "    .dataframe tbody tr th:only-of-type {\n",
       "        vertical-align: middle;\n",
       "    }\n",
       "\n",
       "    .dataframe tbody tr th {\n",
       "        vertical-align: top;\n",
       "    }\n",
       "\n",
       "    .dataframe thead th {\n",
       "        text-align: right;\n",
       "    }\n",
       "</style>\n",
       "<table border=\"1\" class=\"dataframe\">\n",
       "  <thead>\n",
       "    <tr style=\"text-align: right;\">\n",
       "      <th></th>\n",
       "      <th>prod_with_photos</th>\n",
       "    </tr>\n",
       "  </thead>\n",
       "  <tbody>\n",
       "    <tr>\n",
       "      <th>0</th>\n",
       "      <td>32341</td>\n",
       "    </tr>\n",
       "  </tbody>\n",
       "</table>\n",
       "</div>"
      ],
      "text/plain": [
       "   prod_with_photos\n",
       "0             32341"
      ]
     },
     "execution_count": 318,
     "metadata": {},
     "output_type": "execute_result"
    }
   ],
   "source": [
    "# number of product with photos\n",
    "\n",
    "query = '''SELECT\n",
    "  COUNT(distinct product_id) as prod_with_photos\n",
    "FROM products\n",
    "where product_photos_qty is not null'''\n",
    "res = pd.read_sql(query, conn)\n",
    "res"
   ]
  },
  {
   "cell_type": "code",
   "execution_count": 262,
   "id": "5c668b00",
   "metadata": {},
   "outputs": [
    {
     "data": {
      "text/html": [
       "<div>\n",
       "<style scoped>\n",
       "    .dataframe tbody tr th:only-of-type {\n",
       "        vertical-align: middle;\n",
       "    }\n",
       "\n",
       "    .dataframe tbody tr th {\n",
       "        vertical-align: top;\n",
       "    }\n",
       "\n",
       "    .dataframe thead th {\n",
       "        text-align: right;\n",
       "    }\n",
       "</style>\n",
       "<table border=\"1\" class=\"dataframe\">\n",
       "  <thead>\n",
       "    <tr style=\"text-align: right;\">\n",
       "      <th></th>\n",
       "      <th>min_weight</th>\n",
       "      <th>mean_weight</th>\n",
       "      <th>median_weight</th>\n",
       "      <th>max_weight</th>\n",
       "    </tr>\n",
       "  </thead>\n",
       "  <tbody>\n",
       "    <tr>\n",
       "      <th>0</th>\n",
       "      <td>0.0</td>\n",
       "      <td>2276.472488</td>\n",
       "      <td>700.0</td>\n",
       "      <td>40425.0</td>\n",
       "    </tr>\n",
       "  </tbody>\n",
       "</table>\n",
       "</div>"
      ],
      "text/plain": [
       "   min_weight  mean_weight  median_weight  max_weight\n",
       "0         0.0  2276.472488          700.0     40425.0"
      ]
     },
     "execution_count": 262,
     "metadata": {},
     "output_type": "execute_result"
    },
    {
     "data": {
      "image/png": "[encoded data removed]",
      "text/plain": [
       "<Figure size 432x288 with 1 Axes>"
      ]
     },
     "metadata": {
      "needs_background": "light"
     },
     "output_type": "display_data"
    }
   ],
   "source": [
    "# min, mean, median and max weights of products\n",
    "\n",
    "query = '''\n",
    "select min_weight, mean_weight, median_weight, max_weight from\n",
    "  (SELECT\n",
    "    product_weight_g AS median_weight,\n",
    "    AVG(product_weight_g) OVER() AS mean_weight,\n",
    "    MIN(product_weight_g) OVER() AS min_weight,\n",
    "    MAX(product_weight_g) OVER() AS max_weight,\n",
    "    NTILE(4) OVER(ORDER BY product_weight_g) AS quantile\n",
    "    \n",
    "  FROM products) as temp\n",
    "  where temp.quantile = 3\n",
    "  limit 1\n",
    "'''\n",
    "res = pd.read_sql(query, conn)\n",
    "res\n",
    "# box plot to show outliers\n",
    "query = '''\n",
    "select product_weight_g \n",
    "from products'''\n",
    "res1 = pd.read_sql(query, conn)\n",
    "\n",
    "sns.boxplot(y = res1['product_weight_g'])\n",
    "res"
   ]
  },
  {
   "cell_type": "code",
   "execution_count": 182,
   "id": "49ee7e01",
   "metadata": {},
   "outputs": [
    {
     "data": {
      "text/html": [
       "<div>\n",
       "<style scoped>\n",
       "    .dataframe tbody tr th:only-of-type {\n",
       "        vertical-align: middle;\n",
       "    }\n",
       "\n",
       "    .dataframe tbody tr th {\n",
       "        vertical-align: top;\n",
       "    }\n",
       "\n",
       "    .dataframe thead th {\n",
       "        text-align: right;\n",
       "    }\n",
       "</style>\n",
       "<table border=\"1\" class=\"dataframe\">\n",
       "  <thead>\n",
       "    <tr style=\"text-align: right;\">\n",
       "      <th></th>\n",
       "      <th>min_length</th>\n",
       "      <th>mean_length</th>\n",
       "      <th>median_length</th>\n",
       "      <th>max_length</th>\n",
       "    </tr>\n",
       "  </thead>\n",
       "  <tbody>\n",
       "    <tr>\n",
       "      <th>0</th>\n",
       "      <td>7.0</td>\n",
       "      <td>30.815078</td>\n",
       "      <td>25.0</td>\n",
       "      <td>105.0</td>\n",
       "    </tr>\n",
       "  </tbody>\n",
       "</table>\n",
       "</div>"
      ],
      "text/plain": [
       "   min_length  mean_length  median_length  max_length\n",
       "0         7.0    30.815078           25.0       105.0"
      ]
     },
     "execution_count": 182,
     "metadata": {},
     "output_type": "execute_result"
    }
   ],
   "source": [
    "# min, mean, median and max length of products\n",
    "\n",
    "query = '''\n",
    "select min_length, mean_length, median_length, max_length from\n",
    "  (SELECT\n",
    "    product_length_cm AS median_length,\n",
    "    MIN(product_length_cm) OVER() AS min_length,\n",
    "    AVG(product_length_cm) OVER() AS mean_length,\n",
    "    MAX(product_length_cm) OVER() AS max_length,\n",
    "    NTILE(4) OVER(ORDER BY product_length_cm) AS quantile\n",
    "    \n",
    "  FROM products) as temp\n",
    "  where temp.quantile = 3\n",
    "  limit 1\n",
    "'''\n",
    "res = pd.read_sql(query, conn)\n",
    "res"
   ]
  },
  {
   "cell_type": "code",
   "execution_count": 184,
   "id": "1ffedba9",
   "metadata": {},
   "outputs": [
    {
     "data": {
      "text/html": [
       "<div>\n",
       "<style scoped>\n",
       "    .dataframe tbody tr th:only-of-type {\n",
       "        vertical-align: middle;\n",
       "    }\n",
       "\n",
       "    .dataframe tbody tr th {\n",
       "        vertical-align: top;\n",
       "    }\n",
       "\n",
       "    .dataframe thead th {\n",
       "        text-align: right;\n",
       "    }\n",
       "</style>\n",
       "<table border=\"1\" class=\"dataframe\">\n",
       "  <thead>\n",
       "    <tr style=\"text-align: right;\">\n",
       "      <th></th>\n",
       "      <th>min_width</th>\n",
       "      <th>mean_width</th>\n",
       "      <th>median_width</th>\n",
       "      <th>max_width</th>\n",
       "    </tr>\n",
       "  </thead>\n",
       "  <tbody>\n",
       "    <tr>\n",
       "      <th>0</th>\n",
       "      <td>6.0</td>\n",
       "      <td>23.196728</td>\n",
       "      <td>20.0</td>\n",
       "      <td>118.0</td>\n",
       "    </tr>\n",
       "  </tbody>\n",
       "</table>\n",
       "</div>"
      ],
      "text/plain": [
       "   min_width  mean_width  median_width  max_width\n",
       "0        6.0   23.196728          20.0      118.0"
      ]
     },
     "execution_count": 184,
     "metadata": {},
     "output_type": "execute_result"
    }
   ],
   "source": [
    "# min, mean, median and max width of products\n",
    "\n",
    "query = '''\n",
    "select min_width, mean_width, median_width, max_width from\n",
    "  (SELECT\n",
    "    product_width_cm AS median_width,\n",
    "    MIN(product_width_cm) OVER() AS min_width,\n",
    "    MAX(product_width_cm) OVER() AS max_width,\n",
    "    AVG(product_width_cm) OVER() AS mean_width,\n",
    "    NTILE(4) OVER(ORDER BY product_width_cm) AS quantile\n",
    "    \n",
    "  FROM products) as temp\n",
    "  where temp.quantile = 3\n",
    "  limit 1\n",
    "'''\n",
    "res = pd.read_sql(query, conn)\n",
    "res"
   ]
  },
  {
   "cell_type": "code",
   "execution_count": 186,
   "id": "d59c7b69",
   "metadata": {
    "scrolled": true
   },
   "outputs": [
    {
     "data": {
      "text/html": [
       "<div>\n",
       "<style scoped>\n",
       "    .dataframe tbody tr th:only-of-type {\n",
       "        vertical-align: middle;\n",
       "    }\n",
       "\n",
       "    .dataframe tbody tr th {\n",
       "        vertical-align: top;\n",
       "    }\n",
       "\n",
       "    .dataframe thead th {\n",
       "        text-align: right;\n",
       "    }\n",
       "</style>\n",
       "<table border=\"1\" class=\"dataframe\">\n",
       "  <thead>\n",
       "    <tr style=\"text-align: right;\">\n",
       "      <th></th>\n",
       "      <th>min_height</th>\n",
       "      <th>mean_height</th>\n",
       "      <th>median_height</th>\n",
       "      <th>max_height</th>\n",
       "    </tr>\n",
       "  </thead>\n",
       "  <tbody>\n",
       "    <tr>\n",
       "      <th>0</th>\n",
       "      <td>2.0</td>\n",
       "      <td>16.937661</td>\n",
       "      <td>13.0</td>\n",
       "      <td>105.0</td>\n",
       "    </tr>\n",
       "  </tbody>\n",
       "</table>\n",
       "</div>"
      ],
      "text/plain": [
       "   min_height  mean_height  median_height  max_height\n",
       "0         2.0    16.937661           13.0       105.0"
      ]
     },
     "execution_count": 186,
     "metadata": {},
     "output_type": "execute_result"
    }
   ],
   "source": [
    "# min, mean, median and max height of products\n",
    "\n",
    "query = '''\n",
    "select min_height, mean_height, median_height, max_height from\n",
    "  (SELECT\n",
    "    product_height_cm AS median_height,\n",
    "    MIN(product_height_cm) OVER() AS min_height,\n",
    "    MAX(product_height_cm) OVER() AS max_height,\n",
    "    AVG(product_height_cm) OVER() AS mean_height,\n",
    "    NTILE(4) OVER(ORDER BY product_height_cm) AS quantile\n",
    "    \n",
    "  FROM products) as temp\n",
    "  where temp.quantile = 3\n",
    "  limit 1\n",
    "'''\n",
    "res = pd.read_sql(query, conn)\n",
    "res"
   ]
  },
  {
   "cell_type": "markdown",
   "id": "ee6e236b",
   "metadata": {},
   "source": [
    ">- Mean weight is much higher than median weight meaning **presence of outliers in product weight column.**\n",
    ">- Difference between mean and median of dimensions like legth, height and width are low showing absence of outliers"
   ]
  },
  {
   "cell_type": "markdown",
   "id": "0211571b",
   "metadata": {},
   "source": [
    "### 5. Orders Table:"
   ]
  },
  {
   "cell_type": "code",
   "execution_count": 81,
   "id": "b3222cde",
   "metadata": {
    "scrolled": true
   },
   "outputs": [
    {
     "data": {
      "text/plain": [
       "order_id                         object\n",
       "customer_id                      object\n",
       "order_status                     object\n",
       "order_purchase_timestamp         object\n",
       "order_approved_at                object\n",
       "order_delivered_carrier_date     object\n",
       "order_delivered_customer_date    object\n",
       "order_estimated_delivery_date    object\n",
       "dtype: object"
      ]
     },
     "execution_count": 81,
     "metadata": {},
     "output_type": "execute_result"
    }
   ],
   "source": [
    "orders.dtypes"
   ]
  },
  {
   "cell_type": "markdown",
   "id": "d214a08a",
   "metadata": {},
   "source": [
    ">- the date based columns order_purchase_timestamp','order_approved_at', 'order_delivered_carrier_date', 'order_delivered_customer_date', 'order_estimated_delivery_date' **are of TIMESTAMP sql type**\n",
    ">- We can use sql datetime functions to extract results"
   ]
  },
  {
   "cell_type": "code",
   "execution_count": 187,
   "id": "d5977081",
   "metadata": {},
   "outputs": [
    {
     "data": {
      "text/html": [
       "<div>\n",
       "<style scoped>\n",
       "    .dataframe tbody tr th:only-of-type {\n",
       "        vertical-align: middle;\n",
       "    }\n",
       "\n",
       "    .dataframe tbody tr th {\n",
       "        vertical-align: top;\n",
       "    }\n",
       "\n",
       "    .dataframe thead th {\n",
       "        text-align: right;\n",
       "    }\n",
       "</style>\n",
       "<table border=\"1\" class=\"dataframe\">\n",
       "  <thead>\n",
       "    <tr style=\"text-align: right;\">\n",
       "      <th></th>\n",
       "      <th>no_of_rows</th>\n",
       "    </tr>\n",
       "  </thead>\n",
       "  <tbody>\n",
       "    <tr>\n",
       "      <th>0</th>\n",
       "      <td>99441</td>\n",
       "    </tr>\n",
       "  </tbody>\n",
       "</table>\n",
       "</div>"
      ],
      "text/plain": [
       "   no_of_rows\n",
       "0       99441"
      ]
     },
     "execution_count": 187,
     "metadata": {},
     "output_type": "execute_result"
    }
   ],
   "source": [
    "# number of rows\n",
    "\n",
    "query = ''' SELECT\n",
    "  COUNT(*) as no_of_rows\n",
    "FROM orders'''\n",
    "res = pd.read_sql(query, conn)\n",
    "res"
   ]
  },
  {
   "cell_type": "code",
   "execution_count": 188,
   "id": "888043ce",
   "metadata": {},
   "outputs": [
    {
     "data": {
      "text/html": [
       "<div>\n",
       "<style scoped>\n",
       "    .dataframe tbody tr th:only-of-type {\n",
       "        vertical-align: middle;\n",
       "    }\n",
       "\n",
       "    .dataframe tbody tr th {\n",
       "        vertical-align: top;\n",
       "    }\n",
       "\n",
       "    .dataframe thead th {\n",
       "        text-align: right;\n",
       "    }\n",
       "</style>\n",
       "<table border=\"1\" class=\"dataframe\">\n",
       "  <thead>\n",
       "    <tr style=\"text-align: right;\">\n",
       "      <th></th>\n",
       "      <th>no_of_null_order_id</th>\n",
       "    </tr>\n",
       "  </thead>\n",
       "  <tbody>\n",
       "    <tr>\n",
       "      <th>0</th>\n",
       "      <td>0</td>\n",
       "    </tr>\n",
       "  </tbody>\n",
       "</table>\n",
       "</div>"
      ],
      "text/plain": [
       "   no_of_null_order_id\n",
       "0                    0"
      ]
     },
     "execution_count": 188,
     "metadata": {},
     "output_type": "execute_result"
    }
   ],
   "source": [
    "# number of null values in order_id\n",
    "\n",
    "query = ''' SELECT\n",
    "  COUNT(*) as no_of_null_order_id\n",
    "FROM orders\n",
    "where order_id is null or trim(order_id) = \"\" '''\n",
    "res = pd.read_sql(query, conn)\n",
    "res"
   ]
  },
  {
   "cell_type": "code",
   "execution_count": 190,
   "id": "249b54df",
   "metadata": {},
   "outputs": [
    {
     "data": {
      "text/html": [
       "<div>\n",
       "<style scoped>\n",
       "    .dataframe tbody tr th:only-of-type {\n",
       "        vertical-align: middle;\n",
       "    }\n",
       "\n",
       "    .dataframe tbody tr th {\n",
       "        vertical-align: top;\n",
       "    }\n",
       "\n",
       "    .dataframe thead th {\n",
       "        text-align: right;\n",
       "    }\n",
       "</style>\n",
       "<table border=\"1\" class=\"dataframe\">\n",
       "  <thead>\n",
       "    <tr style=\"text-align: right;\">\n",
       "      <th></th>\n",
       "      <th>no_of_orders</th>\n",
       "    </tr>\n",
       "  </thead>\n",
       "  <tbody>\n",
       "    <tr>\n",
       "      <th>0</th>\n",
       "      <td>99441</td>\n",
       "    </tr>\n",
       "  </tbody>\n",
       "</table>\n",
       "</div>"
      ],
      "text/plain": [
       "   no_of_orders\n",
       "0         99441"
      ]
     },
     "execution_count": 190,
     "metadata": {},
     "output_type": "execute_result"
    }
   ],
   "source": [
    "# Number of orders\n",
    "\n",
    "query = '''SELECT\n",
    "  COUNT(DISTINCT order_id) as no_of_orders\n",
    "FROM orders\n",
    "'''\n",
    "res = pd.read_sql(query, conn)\n",
    "res"
   ]
  },
  {
   "cell_type": "markdown",
   "id": "e832fbd6",
   "metadata": {},
   "source": [
    "> All the rows represent unique orders"
   ]
  },
  {
   "cell_type": "code",
   "execution_count": 258,
   "id": "25279dd7",
   "metadata": {},
   "outputs": [
    {
     "data": {
      "text/html": [
       "<div>\n",
       "<style scoped>\n",
       "    .dataframe tbody tr th:only-of-type {\n",
       "        vertical-align: middle;\n",
       "    }\n",
       "\n",
       "    .dataframe tbody tr th {\n",
       "        vertical-align: top;\n",
       "    }\n",
       "\n",
       "    .dataframe thead th {\n",
       "        text-align: right;\n",
       "    }\n",
       "</style>\n",
       "<table border=\"1\" class=\"dataframe\">\n",
       "  <thead>\n",
       "    <tr style=\"text-align: right;\">\n",
       "      <th></th>\n",
       "      <th>order_status</th>\n",
       "      <th>count_orders</th>\n",
       "    </tr>\n",
       "  </thead>\n",
       "  <tbody>\n",
       "    <tr>\n",
       "      <th>0</th>\n",
       "      <td>delivered</td>\n",
       "      <td>96478</td>\n",
       "    </tr>\n",
       "    <tr>\n",
       "      <th>1</th>\n",
       "      <td>shipped</td>\n",
       "      <td>1107</td>\n",
       "    </tr>\n",
       "    <tr>\n",
       "      <th>2</th>\n",
       "      <td>canceled</td>\n",
       "      <td>625</td>\n",
       "    </tr>\n",
       "    <tr>\n",
       "      <th>3</th>\n",
       "      <td>unavailable</td>\n",
       "      <td>609</td>\n",
       "    </tr>\n",
       "    <tr>\n",
       "      <th>4</th>\n",
       "      <td>invoiced</td>\n",
       "      <td>314</td>\n",
       "    </tr>\n",
       "    <tr>\n",
       "      <th>5</th>\n",
       "      <td>processing</td>\n",
       "      <td>301</td>\n",
       "    </tr>\n",
       "    <tr>\n",
       "      <th>6</th>\n",
       "      <td>created</td>\n",
       "      <td>5</td>\n",
       "    </tr>\n",
       "    <tr>\n",
       "      <th>7</th>\n",
       "      <td>approved</td>\n",
       "      <td>2</td>\n",
       "    </tr>\n",
       "  </tbody>\n",
       "</table>\n",
       "</div>"
      ],
      "text/plain": [
       "  order_status  count_orders\n",
       "0    delivered         96478\n",
       "1      shipped          1107\n",
       "2     canceled           625\n",
       "3  unavailable           609\n",
       "4     invoiced           314\n",
       "5   processing           301\n",
       "6      created             5\n",
       "7     approved             2"
      ]
     },
     "execution_count": 258,
     "metadata": {},
     "output_type": "execute_result"
    }
   ],
   "source": [
    "# Number of orders under each type of order status\n",
    "\n",
    "query = '''SELECT\n",
    "  order_status, COUNT(*) as count_orders\n",
    "FROM orders\n",
    "group by order_status\n",
    "order by count(*) desc\n",
    "'''\n",
    "res = pd.read_sql(query, conn)\n",
    "res"
   ]
  },
  {
   "cell_type": "markdown",
   "id": "60799fde",
   "metadata": {},
   "source": [
    ">- Most orders are delivered and out of remaining approx 3000 orders, 1100 are shipped.\n",
    ">- Almost 1200 are cancelled or unavailable"
   ]
  },
  {
   "cell_type": "code",
   "execution_count": 201,
   "id": "7fa3966c",
   "metadata": {},
   "outputs": [
    {
     "data": {
      "text/html": [
       "<div>\n",
       "<style scoped>\n",
       "    .dataframe tbody tr th:only-of-type {\n",
       "        vertical-align: middle;\n",
       "    }\n",
       "\n",
       "    .dataframe tbody tr th {\n",
       "        vertical-align: top;\n",
       "    }\n",
       "\n",
       "    .dataframe thead th {\n",
       "        text-align: right;\n",
       "    }\n",
       "</style>\n",
       "<table border=\"1\" class=\"dataframe\">\n",
       "  <thead>\n",
       "    <tr style=\"text-align: right;\">\n",
       "      <th></th>\n",
       "      <th>first_purchase_date</th>\n",
       "      <th>last_purchase_date</th>\n",
       "      <th>first_delivered_date</th>\n",
       "      <th>last_delivered_date</th>\n",
       "    </tr>\n",
       "  </thead>\n",
       "  <tbody>\n",
       "    <tr>\n",
       "      <th>0</th>\n",
       "      <td>2016-09-04</td>\n",
       "      <td>2018-10-17</td>\n",
       "      <td>2016-10-11</td>\n",
       "      <td>2018-10-17</td>\n",
       "    </tr>\n",
       "  </tbody>\n",
       "</table>\n",
       "</div>"
      ],
      "text/plain": [
       "  first_purchase_date last_purchase_date first_delivered_date  \\\n",
       "0          2016-09-04         2018-10-17           2016-10-11   \n",
       "\n",
       "  last_delivered_date  \n",
       "0          2018-10-17  "
      ]
     },
     "execution_count": 201,
     "metadata": {},
     "output_type": "execute_result"
    }
   ],
   "source": [
    "# range of dates of order_purchase_timestamp\n",
    "\n",
    "query = '''SELECT\n",
    "  MIN(DATE(order_purchase_timestamp)) first_purchase_date,\n",
    "  MAX(DATE(order_purchase_timestamp)) last_purchase_date,\n",
    "  MIN(DATE(order_delivered_customer_date)) first_delivered_date,\n",
    "  MAX(DATE(order_delivered_customer_date)) last_delivered_date\n",
    "FROM orders'''\n",
    "res = pd.read_sql(query, conn)\n",
    "res"
   ]
  },
  {
   "cell_type": "markdown",
   "id": "778c6612",
   "metadata": {},
   "source": [
    "\n",
    ">- Rest of the analysis on this table will be done in In-Depth Exploration"
   ]
  },
  {
   "cell_type": "markdown",
   "id": "dd4a7bc4",
   "metadata": {},
   "source": [
    "### 6. Order_items table"
   ]
  },
  {
   "cell_type": "code",
   "execution_count": 77,
   "id": "e9dd50f2",
   "metadata": {
    "scrolled": true
   },
   "outputs": [
    {
     "data": {
      "text/plain": [
       "order_id                object\n",
       "order_item_id            int64\n",
       "product_id              object\n",
       "seller_id               object\n",
       "shipping_limit_date     object\n",
       "price                  float64\n",
       "freight_value          float64\n",
       "dtype: object"
      ]
     },
     "execution_count": 77,
     "metadata": {},
     "output_type": "execute_result"
    }
   ],
   "source": [
    "order_items.dtypes"
   ]
  },
  {
   "cell_type": "markdown",
   "id": "6975a7dc",
   "metadata": {},
   "source": [
    ">- **shipping_limit_date is of timestamp sql type**"
   ]
  },
  {
   "cell_type": "code",
   "execution_count": 237,
   "id": "f60c1f6a",
   "metadata": {
    "scrolled": true
   },
   "outputs": [
    {
     "data": {
      "text/html": [
       "<div>\n",
       "<style scoped>\n",
       "    .dataframe tbody tr th:only-of-type {\n",
       "        vertical-align: middle;\n",
       "    }\n",
       "\n",
       "    .dataframe tbody tr th {\n",
       "        vertical-align: top;\n",
       "    }\n",
       "\n",
       "    .dataframe thead th {\n",
       "        text-align: right;\n",
       "    }\n",
       "</style>\n",
       "<table border=\"1\" class=\"dataframe\">\n",
       "  <thead>\n",
       "    <tr style=\"text-align: right;\">\n",
       "      <th></th>\n",
       "      <th>no_of_rows</th>\n",
       "    </tr>\n",
       "  </thead>\n",
       "  <tbody>\n",
       "    <tr>\n",
       "      <th>0</th>\n",
       "      <td>112650</td>\n",
       "    </tr>\n",
       "  </tbody>\n",
       "</table>\n",
       "</div>"
      ],
      "text/plain": [
       "   no_of_rows\n",
       "0      112650"
      ]
     },
     "execution_count": 237,
     "metadata": {},
     "output_type": "execute_result"
    }
   ],
   "source": [
    "# number of rows\n",
    "\n",
    "query = ''' SELECT\n",
    "  COUNT(*) as no_of_rows\n",
    "FROM order_items'''\n",
    "res = pd.read_sql(query, conn)\n",
    "res"
   ]
  },
  {
   "cell_type": "code",
   "execution_count": 238,
   "id": "4591007b",
   "metadata": {},
   "outputs": [
    {
     "data": {
      "text/html": [
       "<div>\n",
       "<style scoped>\n",
       "    .dataframe tbody tr th:only-of-type {\n",
       "        vertical-align: middle;\n",
       "    }\n",
       "\n",
       "    .dataframe tbody tr th {\n",
       "        vertical-align: top;\n",
       "    }\n",
       "\n",
       "    .dataframe thead th {\n",
       "        text-align: right;\n",
       "    }\n",
       "</style>\n",
       "<table border=\"1\" class=\"dataframe\">\n",
       "  <thead>\n",
       "    <tr style=\"text-align: right;\">\n",
       "      <th></th>\n",
       "      <th>no_of_null_order_id</th>\n",
       "    </tr>\n",
       "  </thead>\n",
       "  <tbody>\n",
       "    <tr>\n",
       "      <th>0</th>\n",
       "      <td>0</td>\n",
       "    </tr>\n",
       "  </tbody>\n",
       "</table>\n",
       "</div>"
      ],
      "text/plain": [
       "   no_of_null_order_id\n",
       "0                    0"
      ]
     },
     "execution_count": 238,
     "metadata": {},
     "output_type": "execute_result"
    }
   ],
   "source": [
    "# number of null values in order_id\n",
    "\n",
    "query = ''' SELECT\n",
    "  COUNT(*) as no_of_null_order_id\n",
    "FROM order_items\n",
    "where order_id is null or trim(order_id) = \"\" '''\n",
    "res = pd.read_sql(query, conn)\n",
    "res"
   ]
  },
  {
   "cell_type": "code",
   "execution_count": 242,
   "id": "a022f6d8",
   "metadata": {},
   "outputs": [
    {
     "data": {
      "text/html": [
       "<div>\n",
       "<style scoped>\n",
       "    .dataframe tbody tr th:only-of-type {\n",
       "        vertical-align: middle;\n",
       "    }\n",
       "\n",
       "    .dataframe tbody tr th {\n",
       "        vertical-align: top;\n",
       "    }\n",
       "\n",
       "    .dataframe thead th {\n",
       "        text-align: right;\n",
       "    }\n",
       "</style>\n",
       "<table border=\"1\" class=\"dataframe\">\n",
       "  <thead>\n",
       "    <tr style=\"text-align: right;\">\n",
       "      <th></th>\n",
       "      <th>no_of_orders</th>\n",
       "    </tr>\n",
       "  </thead>\n",
       "  <tbody>\n",
       "    <tr>\n",
       "      <th>0</th>\n",
       "      <td>98666</td>\n",
       "    </tr>\n",
       "  </tbody>\n",
       "</table>\n",
       "</div>"
      ],
      "text/plain": [
       "   no_of_orders\n",
       "0         98666"
      ]
     },
     "execution_count": 242,
     "metadata": {},
     "output_type": "execute_result"
    }
   ],
   "source": [
    "# Number of orders\n",
    "\n",
    "query = '''SELECT\n",
    "  COUNT(DISTINCT order_id) as no_of_orders\n",
    "FROM order_items\n",
    "'''\n",
    "res = pd.read_sql(query, conn)\n",
    "res"
   ]
  },
  {
   "cell_type": "markdown",
   "id": "c4eca28e",
   "metadata": {},
   "source": [
    "> 98000 of the 112000 rows had unique orders"
   ]
  },
  {
   "cell_type": "code",
   "execution_count": 298,
   "id": "4da39f76",
   "metadata": {},
   "outputs": [
    {
     "data": {
      "text/html": [
       "<div>\n",
       "<style scoped>\n",
       "    .dataframe tbody tr th:only-of-type {\n",
       "        vertical-align: middle;\n",
       "    }\n",
       "\n",
       "    .dataframe tbody tr th {\n",
       "        vertical-align: top;\n",
       "    }\n",
       "\n",
       "    .dataframe thead th {\n",
       "        text-align: right;\n",
       "    }\n",
       "</style>\n",
       "<table border=\"1\" class=\"dataframe\">\n",
       "  <thead>\n",
       "    <tr style=\"text-align: right;\">\n",
       "      <th></th>\n",
       "      <th>min_price</th>\n",
       "      <th>mean_price</th>\n",
       "      <th>median_price</th>\n",
       "      <th>max_price</th>\n",
       "    </tr>\n",
       "  </thead>\n",
       "  <tbody>\n",
       "    <tr>\n",
       "      <th>0</th>\n",
       "      <td>0.85</td>\n",
       "      <td>120.653739</td>\n",
       "      <td>74.99</td>\n",
       "      <td>6735.0</td>\n",
       "    </tr>\n",
       "  </tbody>\n",
       "</table>\n",
       "</div>"
      ],
      "text/plain": [
       "   min_price  mean_price  median_price  max_price\n",
       "0       0.85  120.653739         74.99     6735.0"
      ]
     },
     "execution_count": 298,
     "metadata": {},
     "output_type": "execute_result"
    },
    {
     "data": {
      "image/png": "[encoded data removed]",
      "text/plain": [
       "<Figure size 432x288 with 1 Axes>"
      ]
     },
     "metadata": {
      "needs_background": "light"
     },
     "output_type": "display_data"
    }
   ],
   "source": [
    "# min, mean, median and max price of products\n",
    "\n",
    "query = '''\n",
    "select min_price, mean_price, median_price, max_price from\n",
    "  (SELECT\n",
    "    price AS median_price,\n",
    "    MIN(price) OVER() AS min_price,\n",
    "    MAX(price) OVER() AS max_price,\n",
    "    AVG(price) OVER() AS mean_price,\n",
    "    NTILE(4) OVER(ORDER BY price) AS quantile\n",
    "    \n",
    "  FROM order_items) as temp\n",
    "  where temp.quantile = 3\n",
    "  limit 1\n",
    "'''\n",
    "res = pd.read_sql(query, conn)\n",
    "\n",
    "query = '''\n",
    "select price \n",
    "from order_items'''\n",
    "res1 = pd.read_sql(query, conn)\n",
    "\n",
    "sns.boxplot(y = res1['price'])        # box plot to show presence of outliers\n",
    "plt.title('box plot of product prices')\n",
    "res"
   ]
  },
  {
   "cell_type": "markdown",
   "id": "0542baf8",
   "metadata": {},
   "source": [
    ">- mean and median of price of items are far from each other hinting at presence of outliers\n",
    ">- Presence of outliers verified with box plot"
   ]
  },
  {
   "cell_type": "code",
   "execution_count": 245,
   "id": "8b8a5639",
   "metadata": {},
   "outputs": [
    {
     "data": {
      "text/html": [
       "<div>\n",
       "<style scoped>\n",
       "    .dataframe tbody tr th:only-of-type {\n",
       "        vertical-align: middle;\n",
       "    }\n",
       "\n",
       "    .dataframe tbody tr th {\n",
       "        vertical-align: top;\n",
       "    }\n",
       "\n",
       "    .dataframe thead th {\n",
       "        text-align: right;\n",
       "    }\n",
       "</style>\n",
       "<table border=\"1\" class=\"dataframe\">\n",
       "  <thead>\n",
       "    <tr style=\"text-align: right;\">\n",
       "      <th></th>\n",
       "      <th>min_freight_value</th>\n",
       "      <th>mean_freight_value</th>\n",
       "      <th>median_freight_value</th>\n",
       "      <th>max_freight_value</th>\n",
       "    </tr>\n",
       "  </thead>\n",
       "  <tbody>\n",
       "    <tr>\n",
       "      <th>0</th>\n",
       "      <td>0.0</td>\n",
       "      <td>19.99032</td>\n",
       "      <td>16.26</td>\n",
       "      <td>409.68</td>\n",
       "    </tr>\n",
       "  </tbody>\n",
       "</table>\n",
       "</div>"
      ],
      "text/plain": [
       "   min_freight_value  mean_freight_value  median_freight_value  \\\n",
       "0                0.0            19.99032                 16.26   \n",
       "\n",
       "   max_freight_value  \n",
       "0             409.68  "
      ]
     },
     "execution_count": 245,
     "metadata": {},
     "output_type": "execute_result"
    }
   ],
   "source": [
    "# min, mean, median and max freight_value of products\n",
    "\n",
    "query = '''\n",
    "select min_freight_value, mean_freight_value, median_freight_value, max_freight_value from\n",
    "  (SELECT\n",
    "    freight_value AS median_freight_value,\n",
    "    MIN(freight_value) OVER() AS min_freight_value,\n",
    "    MAX(freight_value) OVER() AS max_freight_value,\n",
    "    AVG(freight_value) OVER() AS mean_freight_value,\n",
    "    NTILE(4) OVER(ORDER BY freight_value) AS quantile\n",
    "    \n",
    "  FROM order_items) as temp\n",
    "  where temp.quantile = 3\n",
    "  limit 1\n",
    "'''\n",
    "res = pd.read_sql(query, conn)\n",
    "res"
   ]
  },
  {
   "cell_type": "markdown",
   "id": "36149d72",
   "metadata": {},
   "source": [
    "### 7. Order_reviews table:"
   ]
  },
  {
   "cell_type": "code",
   "execution_count": 80,
   "id": "7146aa8f",
   "metadata": {
    "scrolled": false
   },
   "outputs": [
    {
     "data": {
      "text/plain": [
       "review_id                  object\n",
       "order_id                   object\n",
       "review_score                int64\n",
       "review_comment_title       object\n",
       "review_creation_date       object\n",
       "review_answer_timestamp    object\n",
       "dtype: object"
      ]
     },
     "execution_count": 80,
     "metadata": {},
     "output_type": "execute_result"
    }
   ],
   "source": [
    "order_reviews.dtypes"
   ]
  },
  {
   "cell_type": "markdown",
   "id": "9544f6b9",
   "metadata": {},
   "source": [
    ">- review_creation_date and review_answer_timestamp are of timestamp sql data type"
   ]
  },
  {
   "cell_type": "code",
   "execution_count": 264,
   "id": "a45e07e6",
   "metadata": {},
   "outputs": [
    {
     "data": {
      "text/html": [
       "<div>\n",
       "<style scoped>\n",
       "    .dataframe tbody tr th:only-of-type {\n",
       "        vertical-align: middle;\n",
       "    }\n",
       "\n",
       "    .dataframe tbody tr th {\n",
       "        vertical-align: top;\n",
       "    }\n",
       "\n",
       "    .dataframe thead th {\n",
       "        text-align: right;\n",
       "    }\n",
       "</style>\n",
       "<table border=\"1\" class=\"dataframe\">\n",
       "  <thead>\n",
       "    <tr style=\"text-align: right;\">\n",
       "      <th></th>\n",
       "      <th>no_of_rows</th>\n",
       "    </tr>\n",
       "  </thead>\n",
       "  <tbody>\n",
       "    <tr>\n",
       "      <th>0</th>\n",
       "      <td>99224</td>\n",
       "    </tr>\n",
       "  </tbody>\n",
       "</table>\n",
       "</div>"
      ],
      "text/plain": [
       "   no_of_rows\n",
       "0       99224"
      ]
     },
     "execution_count": 264,
     "metadata": {},
     "output_type": "execute_result"
    }
   ],
   "source": [
    "# number of rows\n",
    "\n",
    "query = ''' SELECT\n",
    "  COUNT(*) as no_of_rows\n",
    "FROM order_reviews'''\n",
    "res = pd.read_sql(query, conn)\n",
    "res"
   ]
  },
  {
   "cell_type": "code",
   "execution_count": 265,
   "id": "a2c0c38b",
   "metadata": {},
   "outputs": [
    {
     "data": {
      "text/html": [
       "<div>\n",
       "<style scoped>\n",
       "    .dataframe tbody tr th:only-of-type {\n",
       "        vertical-align: middle;\n",
       "    }\n",
       "\n",
       "    .dataframe tbody tr th {\n",
       "        vertical-align: top;\n",
       "    }\n",
       "\n",
       "    .dataframe thead th {\n",
       "        text-align: right;\n",
       "    }\n",
       "</style>\n",
       "<table border=\"1\" class=\"dataframe\">\n",
       "  <thead>\n",
       "    <tr style=\"text-align: right;\">\n",
       "      <th></th>\n",
       "      <th>no_of_null_review_id</th>\n",
       "    </tr>\n",
       "  </thead>\n",
       "  <tbody>\n",
       "    <tr>\n",
       "      <th>0</th>\n",
       "      <td>0</td>\n",
       "    </tr>\n",
       "  </tbody>\n",
       "</table>\n",
       "</div>"
      ],
      "text/plain": [
       "   no_of_null_review_id\n",
       "0                     0"
      ]
     },
     "execution_count": 265,
     "metadata": {},
     "output_type": "execute_result"
    }
   ],
   "source": [
    "# number of null values in review_id\n",
    "\n",
    "query = ''' SELECT\n",
    "  COUNT(*) as no_of_null_review_id\n",
    "FROM order_reviews\n",
    "where review_id is null or trim(review_id) = \"\" '''\n",
    "res = pd.read_sql(query, conn)\n",
    "res"
   ]
  },
  {
   "cell_type": "code",
   "execution_count": 266,
   "id": "fc0b3204",
   "metadata": {},
   "outputs": [
    {
     "data": {
      "text/html": [
       "<div>\n",
       "<style scoped>\n",
       "    .dataframe tbody tr th:only-of-type {\n",
       "        vertical-align: middle;\n",
       "    }\n",
       "\n",
       "    .dataframe tbody tr th {\n",
       "        vertical-align: top;\n",
       "    }\n",
       "\n",
       "    .dataframe thead th {\n",
       "        text-align: right;\n",
       "    }\n",
       "</style>\n",
       "<table border=\"1\" class=\"dataframe\">\n",
       "  <thead>\n",
       "    <tr style=\"text-align: right;\">\n",
       "      <th></th>\n",
       "      <th>no_of_reviews</th>\n",
       "    </tr>\n",
       "  </thead>\n",
       "  <tbody>\n",
       "    <tr>\n",
       "      <th>0</th>\n",
       "      <td>98410</td>\n",
       "    </tr>\n",
       "  </tbody>\n",
       "</table>\n",
       "</div>"
      ],
      "text/plain": [
       "   no_of_reviews\n",
       "0          98410"
      ]
     },
     "execution_count": 266,
     "metadata": {},
     "output_type": "execute_result"
    }
   ],
   "source": [
    "# number of reviews\n",
    "\n",
    "query = ''' SELECT\n",
    "  COUNT(distinct review_id) as no_of_reviews\n",
    "FROM order_reviews'''\n",
    "res = pd.read_sql(query, conn)\n",
    "res"
   ]
  },
  {
   "cell_type": "markdown",
   "id": "2a7b5d5c",
   "metadata": {},
   "source": [
    "> Out 99224 rows, 98410 are unique reviews"
   ]
  },
  {
   "cell_type": "code",
   "execution_count": 281,
   "id": "6aa19220",
   "metadata": {},
   "outputs": [
    {
     "data": {
      "text/html": [
       "<div>\n",
       "<style scoped>\n",
       "    .dataframe tbody tr th:only-of-type {\n",
       "        vertical-align: middle;\n",
       "    }\n",
       "\n",
       "    .dataframe tbody tr th {\n",
       "        vertical-align: top;\n",
       "    }\n",
       "\n",
       "    .dataframe thead th {\n",
       "        text-align: right;\n",
       "    }\n",
       "</style>\n",
       "<table border=\"1\" class=\"dataframe\">\n",
       "  <thead>\n",
       "    <tr style=\"text-align: right;\">\n",
       "      <th></th>\n",
       "      <th>review_score</th>\n",
       "      <th>count</th>\n",
       "    </tr>\n",
       "  </thead>\n",
       "  <tbody>\n",
       "    <tr>\n",
       "      <th>0</th>\n",
       "      <td>1</td>\n",
       "      <td>11424</td>\n",
       "    </tr>\n",
       "    <tr>\n",
       "      <th>1</th>\n",
       "      <td>2</td>\n",
       "      <td>3151</td>\n",
       "    </tr>\n",
       "    <tr>\n",
       "      <th>2</th>\n",
       "      <td>3</td>\n",
       "      <td>8179</td>\n",
       "    </tr>\n",
       "    <tr>\n",
       "      <th>3</th>\n",
       "      <td>4</td>\n",
       "      <td>19142</td>\n",
       "    </tr>\n",
       "    <tr>\n",
       "      <th>4</th>\n",
       "      <td>5</td>\n",
       "      <td>57328</td>\n",
       "    </tr>\n",
       "  </tbody>\n",
       "</table>\n",
       "</div>"
      ],
      "text/plain": [
       "   review_score  count\n",
       "0             1  11424\n",
       "1             2   3151\n",
       "2             3   8179\n",
       "3             4  19142\n",
       "4             5  57328"
      ]
     },
     "execution_count": 281,
     "metadata": {},
     "output_type": "execute_result"
    },
    {
     "data": {
      "image/png": "[encoded data removed]",
      "text/plain": [
       "<Figure size 432x288 with 1 Axes>"
      ]
     },
     "metadata": {
      "needs_background": "light"
     },
     "output_type": "display_data"
    }
   ],
   "source": [
    "# number of reviews for each review score\n",
    "\n",
    "query = '''\n",
    "SELECT\n",
    "  review_score, COUNT(*) as count\n",
    "FROM\n",
    "  order_reviews\n",
    "GROUP BY\n",
    "  review_score'''\n",
    "res = pd.read_sql(query, conn)\n",
    "\n",
    "res.plot(kind = 'bar', x= 'review_score', y= 'count', rot = 45)\n",
    "res"
   ]
  },
  {
   "cell_type": "markdown",
   "id": "7e33e7a7",
   "metadata": {},
   "source": [
    ">- **Most orders got a 5 review_score** followed by 4."
   ]
  },
  {
   "cell_type": "code",
   "execution_count": 284,
   "id": "828e19cd",
   "metadata": {},
   "outputs": [
    {
     "data": {
      "text/html": [
       "<div>\n",
       "<style scoped>\n",
       "    .dataframe tbody tr th:only-of-type {\n",
       "        vertical-align: middle;\n",
       "    }\n",
       "\n",
       "    .dataframe tbody tr th {\n",
       "        vertical-align: top;\n",
       "    }\n",
       "\n",
       "    .dataframe thead th {\n",
       "        text-align: right;\n",
       "    }\n",
       "</style>\n",
       "<table border=\"1\" class=\"dataframe\">\n",
       "  <thead>\n",
       "    <tr style=\"text-align: right;\">\n",
       "      <th></th>\n",
       "      <th>count_reviews_with_comment</th>\n",
       "    </tr>\n",
       "  </thead>\n",
       "  <tbody>\n",
       "    <tr>\n",
       "      <th>0</th>\n",
       "      <td>11549</td>\n",
       "    </tr>\n",
       "  </tbody>\n",
       "</table>\n",
       "</div>"
      ],
      "text/plain": [
       "   count_reviews_with_comment\n",
       "0                       11549"
      ]
     },
     "execution_count": 284,
     "metadata": {},
     "output_type": "execute_result"
    }
   ],
   "source": [
    "# Count of reviews with comments\n",
    "\n",
    "query = '''\n",
    "select count(*) as count_reviews_with_comment\n",
    "from order_reviews\n",
    "where review_comment_title is not null \n",
    "'''\n",
    "res = pd.read_sql(query, conn)\n",
    "res"
   ]
  },
  {
   "cell_type": "markdown",
   "id": "02207a0f",
   "metadata": {},
   "source": [
    ">- Only 11549 reviews out of ~99000 reviews had title in it"
   ]
  },
  {
   "cell_type": "markdown",
   "id": "73255234",
   "metadata": {},
   "source": [
    "### 8. Payments table:\n"
   ]
  },
  {
   "cell_type": "code",
   "execution_count": 78,
   "id": "c9afc43a",
   "metadata": {
    "scrolled": true
   },
   "outputs": [
    {
     "data": {
      "text/plain": [
       "order_id                 object\n",
       "payment_sequential        int64\n",
       "payment_type             object\n",
       "payment_installments      int64\n",
       "payment_value           float64\n",
       "dtype: object"
      ]
     },
     "execution_count": 78,
     "metadata": {},
     "output_type": "execute_result"
    }
   ],
   "source": [
    "payments.dtypes"
   ]
  },
  {
   "cell_type": "code",
   "execution_count": 287,
   "id": "9561778e",
   "metadata": {},
   "outputs": [
    {
     "data": {
      "text/html": [
       "<div>\n",
       "<style scoped>\n",
       "    .dataframe tbody tr th:only-of-type {\n",
       "        vertical-align: middle;\n",
       "    }\n",
       "\n",
       "    .dataframe tbody tr th {\n",
       "        vertical-align: top;\n",
       "    }\n",
       "\n",
       "    .dataframe thead th {\n",
       "        text-align: right;\n",
       "    }\n",
       "</style>\n",
       "<table border=\"1\" class=\"dataframe\">\n",
       "  <thead>\n",
       "    <tr style=\"text-align: right;\">\n",
       "      <th></th>\n",
       "      <th>no_of_rows</th>\n",
       "    </tr>\n",
       "  </thead>\n",
       "  <tbody>\n",
       "    <tr>\n",
       "      <th>0</th>\n",
       "      <td>103886</td>\n",
       "    </tr>\n",
       "  </tbody>\n",
       "</table>\n",
       "</div>"
      ],
      "text/plain": [
       "   no_of_rows\n",
       "0      103886"
      ]
     },
     "execution_count": 287,
     "metadata": {},
     "output_type": "execute_result"
    }
   ],
   "source": [
    "# number of rows\n",
    "\n",
    "query = ''' SELECT\n",
    "  COUNT(*) as no_of_rows\n",
    "FROM payments'''\n",
    "res = pd.read_sql(query, conn)\n",
    "res"
   ]
  },
  {
   "cell_type": "code",
   "execution_count": 288,
   "id": "c7aa5fe0",
   "metadata": {},
   "outputs": [
    {
     "data": {
      "text/html": [
       "<div>\n",
       "<style scoped>\n",
       "    .dataframe tbody tr th:only-of-type {\n",
       "        vertical-align: middle;\n",
       "    }\n",
       "\n",
       "    .dataframe tbody tr th {\n",
       "        vertical-align: top;\n",
       "    }\n",
       "\n",
       "    .dataframe thead th {\n",
       "        text-align: right;\n",
       "    }\n",
       "</style>\n",
       "<table border=\"1\" class=\"dataframe\">\n",
       "  <thead>\n",
       "    <tr style=\"text-align: right;\">\n",
       "      <th></th>\n",
       "      <th>no_of_null_order_id</th>\n",
       "    </tr>\n",
       "  </thead>\n",
       "  <tbody>\n",
       "    <tr>\n",
       "      <th>0</th>\n",
       "      <td>0</td>\n",
       "    </tr>\n",
       "  </tbody>\n",
       "</table>\n",
       "</div>"
      ],
      "text/plain": [
       "   no_of_null_order_id\n",
       "0                    0"
      ]
     },
     "execution_count": 288,
     "metadata": {},
     "output_type": "execute_result"
    }
   ],
   "source": [
    "# number of null values in order_id\n",
    "\n",
    "query = ''' SELECT\n",
    "  COUNT(*) as no_of_null_order_id\n",
    "FROM payments\n",
    "where order_id is null or trim(order_id) = \"\" '''\n",
    "res = pd.read_sql(query, conn)\n",
    "res"
   ]
  },
  {
   "cell_type": "code",
   "execution_count": 299,
   "id": "3e80b820",
   "metadata": {},
   "outputs": [
    {
     "data": {
      "text/html": [
       "<div>\n",
       "<style scoped>\n",
       "    .dataframe tbody tr th:only-of-type {\n",
       "        vertical-align: middle;\n",
       "    }\n",
       "\n",
       "    .dataframe tbody tr th {\n",
       "        vertical-align: top;\n",
       "    }\n",
       "\n",
       "    .dataframe thead th {\n",
       "        text-align: right;\n",
       "    }\n",
       "</style>\n",
       "<table border=\"1\" class=\"dataframe\">\n",
       "  <thead>\n",
       "    <tr style=\"text-align: right;\">\n",
       "      <th></th>\n",
       "      <th>min_no_of_installments</th>\n",
       "      <th>avg_no_of_installments</th>\n",
       "      <th>max_no_of_installments</th>\n",
       "    </tr>\n",
       "  </thead>\n",
       "  <tbody>\n",
       "    <tr>\n",
       "      <th>0</th>\n",
       "      <td>0</td>\n",
       "      <td>3.0</td>\n",
       "      <td>24</td>\n",
       "    </tr>\n",
       "  </tbody>\n",
       "</table>\n",
       "</div>"
      ],
      "text/plain": [
       "   min_no_of_installments  avg_no_of_installments  max_no_of_installments\n",
       "0                       0                     3.0                      24"
      ]
     },
     "execution_count": 299,
     "metadata": {},
     "output_type": "execute_result"
    },
    {
     "data": {
      "image/png": "[encoded data removed]",
      "text/plain": [
       "<Figure size 432x288 with 1 Axes>"
      ]
     },
     "metadata": {
      "needs_background": "light"
     },
     "output_type": "display_data"
    }
   ],
   "source": [
    "# analysis of number of installments\n",
    "\n",
    "query = '''\n",
    "select \n",
    "min(payment_installments) as min_no_of_installments,\n",
    "round(avg(payment_installments),0) as avg_no_of_installments,\n",
    "max(payment_installments) as max_no_of_installments\n",
    "from payments'''\n",
    "\n",
    "res = pd.read_sql(query, conn)\n",
    "\n",
    "query = ''' select payment_installments from payments'''\n",
    "res1 = pd.read_sql(query, conn)\n",
    "sns.histplot(res1['payment_installments'], bins = 10)\n",
    "res"
   ]
  },
  {
   "cell_type": "code",
   "execution_count": 309,
   "id": "261acda3",
   "metadata": {},
   "outputs": [
    {
     "data": {
      "text/html": [
       "<div>\n",
       "<style scoped>\n",
       "    .dataframe tbody tr th:only-of-type {\n",
       "        vertical-align: middle;\n",
       "    }\n",
       "\n",
       "    .dataframe tbody tr th {\n",
       "        vertical-align: top;\n",
       "    }\n",
       "\n",
       "    .dataframe thead th {\n",
       "        text-align: right;\n",
       "    }\n",
       "</style>\n",
       "<table border=\"1\" class=\"dataframe\">\n",
       "  <thead>\n",
       "    <tr style=\"text-align: right;\">\n",
       "      <th></th>\n",
       "      <th>min_payment_value</th>\n",
       "      <th>avg_payment_value</th>\n",
       "      <th>max_payment_value</th>\n",
       "    </tr>\n",
       "  </thead>\n",
       "  <tbody>\n",
       "    <tr>\n",
       "      <th>0</th>\n",
       "      <td>0.0</td>\n",
       "      <td>154.1</td>\n",
       "      <td>13664.08</td>\n",
       "    </tr>\n",
       "  </tbody>\n",
       "</table>\n",
       "</div>"
      ],
      "text/plain": [
       "   min_payment_value  avg_payment_value  max_payment_value\n",
       "0                0.0              154.1           13664.08"
      ]
     },
     "execution_count": 309,
     "metadata": {},
     "output_type": "execute_result"
    },
    {
     "data": {
      "image/png": "[encoded data removed]",
      "text/plain": [
       "<Figure size 1080x360 with 2 Axes>"
      ]
     },
     "metadata": {
      "needs_background": "light"
     },
     "output_type": "display_data"
    }
   ],
   "source": [
    "# analysis of payment_value\n",
    "\n",
    "query = '''\n",
    "select \n",
    "min(payment_value) as min_payment_value,\n",
    "round(avg(payment_value),2) as avg_payment_value,\n",
    "max(payment_value) as max_payment_value\n",
    "from payments'''\n",
    "\n",
    "res = pd.read_sql(query, conn)\n",
    "\n",
    "query = ''' select payment_value from payments'''\n",
    "res1 = pd.read_sql(query, conn)\n",
    "\n",
    "plt.figure(figsize = [15,5])\n",
    "plt.subplot(1,2,1)\n",
    "sns.boxplot(y = res1['payment_value'])\n",
    "plt.subplot(1,2,2)\n",
    "sns.histplot(x = res1['payment_value'], bins = 10)\n",
    "res"
   ]
  },
  {
   "cell_type": "markdown",
   "id": "2bb3b5a3",
   "metadata": {},
   "source": [
    ">- Almost 100000 payment values lie in the less than 1000 range\n",
    ">- Presence of outliers scene in the boxplot"
   ]
  },
  {
   "cell_type": "code",
   "execution_count": 313,
   "id": "363cde94",
   "metadata": {},
   "outputs": [
    {
     "data": {
      "text/html": [
       "<div>\n",
       "<style scoped>\n",
       "    .dataframe tbody tr th:only-of-type {\n",
       "        vertical-align: middle;\n",
       "    }\n",
       "\n",
       "    .dataframe tbody tr th {\n",
       "        vertical-align: top;\n",
       "    }\n",
       "\n",
       "    .dataframe thead th {\n",
       "        text-align: right;\n",
       "    }\n",
       "</style>\n",
       "<table border=\"1\" class=\"dataframe\">\n",
       "  <thead>\n",
       "    <tr style=\"text-align: right;\">\n",
       "      <th></th>\n",
       "      <th>payment_type</th>\n",
       "      <th>count_of_payment_type</th>\n",
       "    </tr>\n",
       "  </thead>\n",
       "  <tbody>\n",
       "    <tr>\n",
       "      <th>0</th>\n",
       "      <td>credit_card</td>\n",
       "      <td>76795</td>\n",
       "    </tr>\n",
       "    <tr>\n",
       "      <th>1</th>\n",
       "      <td>UPI</td>\n",
       "      <td>19784</td>\n",
       "    </tr>\n",
       "    <tr>\n",
       "      <th>2</th>\n",
       "      <td>voucher</td>\n",
       "      <td>5775</td>\n",
       "    </tr>\n",
       "    <tr>\n",
       "      <th>3</th>\n",
       "      <td>debit_card</td>\n",
       "      <td>1529</td>\n",
       "    </tr>\n",
       "    <tr>\n",
       "      <th>4</th>\n",
       "      <td>not_defined</td>\n",
       "      <td>3</td>\n",
       "    </tr>\n",
       "  </tbody>\n",
       "</table>\n",
       "</div>"
      ],
      "text/plain": [
       "  payment_type  count_of_payment_type\n",
       "0  credit_card                  76795\n",
       "1          UPI                  19784\n",
       "2      voucher                   5775\n",
       "3   debit_card                   1529\n",
       "4  not_defined                      3"
      ]
     },
     "execution_count": 313,
     "metadata": {},
     "output_type": "execute_result"
    },
    {
     "data": {
      "image/png": "[encoded data removed]",
      "text/plain": [
       "<Figure size 432x288 with 1 Axes>"
      ]
     },
     "metadata": {
      "needs_background": "light"
     },
     "output_type": "display_data"
    }
   ],
   "source": [
    "# number of orders for each payment type\n",
    "\n",
    "query = '''\n",
    "select payment_type, count(*) as count_of_payment_type\n",
    "from payments\n",
    "group by payment_type\n",
    "order by count(*) desc\n",
    "'''\n",
    "\n",
    "res = pd.read_sql(query, conn)\n",
    "res.plot(kind = 'bar', x = 'payment_type', y = 'count_of_payment_type', rot = 45)\n",
    "res"
   ]
  },
  {
   "cell_type": "markdown",
   "id": "38957145",
   "metadata": {},
   "source": [
    "## In-Depth Exploration\n",
    "### Question: Is there a growing trend on e-commerce in Brazil? How can we describe a complete scenario? Can we see some seasonality with peaks at specific months?"
   ]
  },
  {
   "cell_type": "code",
   "execution_count": null,
   "id": "d1bba28b",
   "metadata": {},
   "outputs": [],
   "source": [
    "# number of orders for each month and its plot\n",
    "\n",
    "query = '''\n",
    "SELECT\n",
    "  *\n",
    "FROM (\n",
    "  SELECT\n",
    "    EXTRACT(YEAR FROM DATETIME(order_purchase_timestamp)) AS year,\n",
    "    EXTRACT(MONTH FROM DATETIME(order_purchase_timestamp)) AS month,\n",
    "    COUNT(DISTINCT order_id) AS order_in_month\n",
    "  FROM\n",
    "    `scaler-case-study.orders`\n",
    "  GROUP BY\n",
    "    EXTRACT(YEAR FROM DATETIME(order_purchase_timestamp)),\n",
    "    EXTRACT(month FROM DATETIME(order_purchase_timestamp))) x\n",
    "\n",
    "ORDER BY\n",
    "  x.year, x.month\n",
    "'''"
   ]
  },
  {
   "cell_type": "markdown",
   "id": "a327749d",
   "metadata": {},
   "source": [
    "### Query result and plot from BigQuery/Colab\n",
    "|index|year|month|order\\_in\\_month|\n",
    "|---|---|---|---|\n",
    "|0|2016|9|4|\n",
    "|1|2016|10|324|\n",
    "|2|2016|12|1|\n",
    "|3|2017|1|800|\n",
    "|4|2017|2|1780|\n",
    "|5|2017|3|2682|\n",
    "|6|2017|4|2404|\n",
    "|7|2017|5|3700|\n",
    "|8|2017|6|3245|\n",
    "|9|2017|7|4026|\n",
    "|10|2017|8|4331|"
   ]
  },
  {
   "attachments": {
    "image-2.png": {
     "image/png": "[encoded data removed]"
    }
   },
   "cell_type": "markdown",
   "id": "cf25dec9",
   "metadata": {},
   "source": [
    "![image-2.png](attachment:image-2.png)\n",
    "\n"
   ]
  },
  {
   "cell_type": "code",
   "execution_count": null,
   "id": "36feb13d",
   "metadata": {},
   "outputs": [],
   "source": [
    "# number of orders for each week and its plot\n",
    "query = '''\n",
    "SELECT\n",
    "  *\n",
    "FROM (\n",
    "  SELECT\n",
    "    EXTRACT(YEAR FROM DATETIME(order_purchase_timestamp)) AS year,\n",
    "    EXTRACT(week FROM DATETIME(order_purchase_timestamp)) AS week,\n",
    "    COUNT(DISTINCT order_id) AS order_in_week\n",
    "  FROM\n",
    "    `scaler-case-study.orders`\n",
    "  GROUP BY\n",
    "    EXTRACT(week FROM DATETIME(order_purchase_timestamp)),\n",
    "    EXTRACT(YEAR FROM DATETIME(order_purchase_timestamp))) x\n",
    "ORDER BY\n",
    "  x.year, x.week'''"
   ]
  },
  {
   "cell_type": "markdown",
   "id": "a3b6aa30",
   "metadata": {},
   "source": [
    "\n",
    "|index|year|week|order\\_in\\_week|      \n",
    "|---|---|---|---|\n",
    "|0|2016|36|2|\n",
    "|1|2016|37|2|\n",
    "|2|2016|40|258|\n",
    "|3|2016|41|65|\n",
    "|4|2016|42|1|\n",
    "|5|2016|51|1|\n",
    "|6|2017|1|40|\n",
    "|7|2017|2|72|\n",
    "|8|2017|3|180|\n",
    "|9|2017|4|350|\n",
    "|10|2017|5|427|\n"
   ]
  },
  {
   "attachments": {
    "image.png": {
     "image/png": "[encoded data removed]"
    }
   },
   "cell_type": "markdown",
   "id": "f10622aa",
   "metadata": {},
   "source": [
    "![image.png](attachment:image.png)\n",
    "\n",
    ">- **The count of orders per week in Brazil has been increasing almost consistently over the period**\n",
    ">- There are few very high peaks and dips in the plot which can be ignored as they might be caused due to specific time of the year related reasons\n",
    ">- The dip in curve towards the end can be ignored as that is due to lack of data in months post August 2018"
   ]
  },
  {
   "cell_type": "code",
   "execution_count": null,
   "id": "9292d2ad",
   "metadata": {},
   "outputs": [],
   "source": [
    "# Analysing weekly payment value with time\n",
    "\n",
    "query = '''\n",
    "SELECT\n",
    "  *\n",
    "FROM (\n",
    "  SELECT\n",
    "    EXTRACT(YEAR FROM DATETIME(o.order_purchase_timestamp)) AS year,\n",
    "    EXTRACT(week FROM DATETIME(o.order_purchase_timestamp)) AS week,\n",
    "    ROUND(SUM(p.payment_value),2) as weekly_payment_value\n",
    "  FROM\n",
    "    project.payments AS p\n",
    "  LEFT JOIN\n",
    "    project.orders AS o\n",
    "  ON\n",
    "    o.order_id = p.order_id\n",
    "  GROUP BY\n",
    "    EXTRACT(week FROM DATETIME(order_purchase_timestamp)),\n",
    "    EXTRACT(YEAR FROM DATETIME(order_purchase_timestamp))) x\n",
    "ORDER BY\n",
    "  x.year, x.week'''"
   ]
  },
  {
   "cell_type": "markdown",
   "id": "d77df915",
   "metadata": {},
   "source": [
    "|index|year|week|weekly\\_payment\\_value|\n",
    "|---|---|---|---|\n",
    "|0|2016|36|211\\.29|\n",
    "|1|2016|37|40\\.95|\n",
    "|2|2016|40|50201\\.28|\n",
    "|3|2016|41|8827\\.21|\n",
    "|4|2016|42|61\\.99|\n",
    "|5|2016|51|19\\.62|\n",
    "|6|2017|1|3143\\.54|\n",
    "|7|2017|2|13131\\.66|\n",
    "|8|2017|3|26773\\.56|\n",
    "|9|2017|4|63068\\.99|\n",
    "|10|2017|5|80744\\.18|"
   ]
  },
  {
   "attachments": {
    "image.png": {
     "image/png": "[encoded data removed]"
    }
   },
   "cell_type": "markdown",
   "id": "85a9871b",
   "metadata": {},
   "source": [
    "![image.png](attachment:image.png)\n",
    "\n",
    ">- **Weekly payment_value for orders also follows a similar patter as weekly number of orders**\n",
    ">- This confirms our assessment that **retailer has seen an almost consistent rise in e-commerce** through the period September 2016 to Auguest 2018"
   ]
  },
  {
   "cell_type": "markdown",
   "id": "71d54c1d",
   "metadata": {},
   "source": [
    "### Checking seasonality with peak in certain months"
   ]
  },
  {
   "cell_type": "code",
   "execution_count": 236,
   "id": "d4b4eb7d",
   "metadata": {
    "scrolled": false
   },
   "outputs": [
    {
     "data": {
      "text/html": [
       "<div>\n",
       "<style scoped>\n",
       "    .dataframe tbody tr th:only-of-type {\n",
       "        vertical-align: middle;\n",
       "    }\n",
       "\n",
       "    .dataframe tbody tr th {\n",
       "        vertical-align: top;\n",
       "    }\n",
       "\n",
       "    .dataframe thead th {\n",
       "        text-align: right;\n",
       "    }\n",
       "</style>\n",
       "<table border=\"1\" class=\"dataframe\">\n",
       "  <thead>\n",
       "    <tr style=\"text-align: right;\">\n",
       "      <th></th>\n",
       "      <th>month</th>\n",
       "      <th>orders_per_month</th>\n",
       "    </tr>\n",
       "  </thead>\n",
       "  <tbody>\n",
       "    <tr>\n",
       "      <th>0</th>\n",
       "      <td>01</td>\n",
       "      <td>8069</td>\n",
       "    </tr>\n",
       "    <tr>\n",
       "      <th>1</th>\n",
       "      <td>02</td>\n",
       "      <td>8508</td>\n",
       "    </tr>\n",
       "    <tr>\n",
       "      <th>2</th>\n",
       "      <td>03</td>\n",
       "      <td>9893</td>\n",
       "    </tr>\n",
       "    <tr>\n",
       "      <th>3</th>\n",
       "      <td>04</td>\n",
       "      <td>9343</td>\n",
       "    </tr>\n",
       "    <tr>\n",
       "      <th>4</th>\n",
       "      <td>05</td>\n",
       "      <td>10573</td>\n",
       "    </tr>\n",
       "    <tr>\n",
       "      <th>5</th>\n",
       "      <td>06</td>\n",
       "      <td>9412</td>\n",
       "    </tr>\n",
       "    <tr>\n",
       "      <th>6</th>\n",
       "      <td>07</td>\n",
       "      <td>10318</td>\n",
       "    </tr>\n",
       "    <tr>\n",
       "      <th>7</th>\n",
       "      <td>08</td>\n",
       "      <td>10843</td>\n",
       "    </tr>\n",
       "    <tr>\n",
       "      <th>8</th>\n",
       "      <td>09</td>\n",
       "      <td>4305</td>\n",
       "    </tr>\n",
       "    <tr>\n",
       "      <th>9</th>\n",
       "      <td>10</td>\n",
       "      <td>4959</td>\n",
       "    </tr>\n",
       "    <tr>\n",
       "      <th>10</th>\n",
       "      <td>11</td>\n",
       "      <td>7544</td>\n",
       "    </tr>\n",
       "    <tr>\n",
       "      <th>11</th>\n",
       "      <td>12</td>\n",
       "      <td>5674</td>\n",
       "    </tr>\n",
       "  </tbody>\n",
       "</table>\n",
       "</div>"
      ],
      "text/plain": [
       "   month  orders_per_month\n",
       "0     01              8069\n",
       "1     02              8508\n",
       "2     03              9893\n",
       "3     04              9343\n",
       "4     05             10573\n",
       "5     06              9412\n",
       "6     07             10318\n",
       "7     08             10843\n",
       "8     09              4305\n",
       "9     10              4959\n",
       "10    11              7544\n",
       "11    12              5674"
      ]
     },
     "execution_count": 236,
     "metadata": {},
     "output_type": "execute_result"
    },
    {
     "data": {
      "image/png": "[encoded data removed]",
      "text/plain": [
       "<Figure size 432x288 with 1 Axes>"
      ]
     },
     "metadata": {
      "needs_background": "light"
     },
     "output_type": "display_data"
    }
   ],
   "source": [
    "# number of orders per month\n",
    "\n",
    "query = '''select * \n",
    "from \n",
    "(SELECT\n",
    "strftime('%m', order_purchase_timestamp) as month, \n",
    "count(*) as orders_per_month\n",
    "FROM orders\n",
    "group by strftime('%m', order_purchase_timestamp)) t\n",
    "order by t.month'''\n",
    "\n",
    "res = pd.read_sql(query, conn)\n",
    "res.plot(kind = 'bar', x = 'month', y = 'orders_per_month', rot = 45)\n",
    "res"
   ]
  },
  {
   "cell_type": "markdown",
   "id": "6b701054",
   "metadata": {},
   "source": [
    ">- Most orders **concentrated between January and August** \n",
    ">- Highest orders scene between the months **May to August**\n",
    ">- September to December see lower orders and reasons need to be investigated behind the same"
   ]
  },
  {
   "cell_type": "markdown",
   "id": "6a14e95c",
   "metadata": {},
   "source": [
    "### Complete Scenario on E-commerce:\n",
    ">- The sale value and number of orders are increasing by huge margins \n",
    ">- The business shows peak in certain months as mentioned above \n",
    ">- There are extraordinarily high peaks in 1-2 weeks which could be due to festival season or some other region specific reason. \n",
    ">- Similarly extraordinarily low values are also observed for 1-2 weeks in 2017 and post August 2018"
   ]
  },
  {
   "cell_type": "markdown",
   "id": "47d0c236",
   "metadata": {},
   "source": [
    "### Question: What time do Brazilian customers tend to buy (Dawn, Morning, Afternoon or Night)?"
   ]
  },
  {
   "cell_type": "code",
   "execution_count": null,
   "id": "ff5c9d75",
   "metadata": {},
   "outputs": [],
   "source": [
    "query = '''\n",
    "WITH\n",
    "  order_per_hour AS (\n",
    "  SELECT\n",
    "    EXTRACT(HOUR FROM DATETIME(order_purchase_timestamp)) AS hour,\n",
    "    COUNT(DISTINCT order_id) AS num_of_orders\n",
    "  FROM\n",
    "    `scaler-case-study.orders`\n",
    "  GROUP BY\n",
    "    EXTRACT(HOUR FROM DATETIME(order_purchase_timestamp))),\n",
    "  \n",
    "  time_of_day_table AS (\n",
    "  SELECT\n",
    "    *,\n",
    "    CASE\n",
    "      WHEN hour BETWEEN 4 AND 8 THEN 'Dawn'\n",
    "      WHEN hour BETWEEN 9 AND 12 THEN 'Morning'\n",
    "      WHEN hour BETWEEN 12 AND 16 THEN 'Afternoon'\n",
    "      WHEN hour BETWEEN 17 AND 20 THEN 'Evening'\n",
    "    ELSE 'Night'\n",
    "  END AS time_of_day\n",
    "  FROM order_per_hour)\n",
    "\n",
    "SELECT\n",
    "  time_of_day,\n",
    "  SUM(num_of_orders) AS Num_Of_Orders\n",
    "FROM time_of_day_table\n",
    "GROUP BY time_of_day\n",
    "order by Num_Of_Orders desc''' "
   ]
  },
  {
   "cell_type": "markdown",
   "id": "65904a6f",
   "metadata": {},
   "source": [
    "### Results:\n",
    "|index|time\\_of\\_day|Num\\_Of\\_Orders|\n",
    "|---|---|---|\n",
    "|0|Afternoon|26216|\n",
    "|1|Evening|24094|\n",
    "|2|Morning|23535|\n",
    "|3|Night|20502|\n",
    "|4|Dawn|5094|"
   ]
  },
  {
   "attachments": {
    "image.png": {
     "image/png": "[encoded data removed]"
    }
   },
   "cell_type": "markdown",
   "id": "812e3749",
   "metadata": {},
   "source": [
    "![image.png](attachment:image.png)\n",
    "\n",
    ">- Dawn: 4-8 AM; Morning: 9-12; Afternoon: 12-4 PM; Evening: 5-8 PM; Night: 8 PM-4 AM\n",
    ">- Highest number of orders placed during afternoon time\n",
    ">- Lowest number of orders placed at Dawn\n",
    ">- Morning, Evening and night have almost similar number of orders placed"
   ]
  },
  {
   "cell_type": "markdown",
   "id": "f46eb295",
   "metadata": {},
   "source": [
    "## Evolution of E-commerce orders in the Brazil region:\n",
    "### Question: Month on month orders by region, states"
   ]
  },
  {
   "cell_type": "code",
   "execution_count": null,
   "id": "229ce573",
   "metadata": {},
   "outputs": [],
   "source": [
    "# Month on month number of orders and percentge change by state\n",
    "\n",
    "query = '''\n",
    "select x.*,  \n",
    "\n",
    "round(((x.num_of_orders_per_state_per_month - lag(x.num_of_orders_per_state_per_month) \n",
    "over(partition by x.customer_state order by x.YEAR, x.month))\n",
    "/ lag(x.num_of_orders_per_state_per_month) \n",
    "over(partition by x.customer_state order by x.YEAR, x.month)*100),2) \n",
    "as month_on_month_perc_change\n",
    "\n",
    "from\n",
    "(SELECT c.customer_state,\n",
    "  EXTRACT(YEAR FROM DATETIME(order_purchase_timestamp)) AS year,\n",
    "  EXTRACT(MONTH FROM DATETIME(order_purchase_timestamp)) AS month,\n",
    "  count(o.order_id) as num_of_orders_per_state_per_month \n",
    "  from project.orders AS o\n",
    "LEFT JOIN\n",
    "  project.customers AS c\n",
    "ON\n",
    "  o.customer_id = c.customer_id\n",
    "group by c.customer_state,\n",
    "  EXTRACT(YEAR FROM DATETIME(order_purchase_timestamp)),\n",
    "  EXTRACT(MONTH FROM DATETIME(order_purchase_timestamp))\n",
    "  )x\n",
    "  order by x.customer_state, x.YEAR, x.month'''"
   ]
  },
  {
   "attachments": {
    "image-4.png": {
     "image/png": "[encoded data removed]"
    }
   },
   "cell_type": "markdown",
   "id": "f3656e11",
   "metadata": {},
   "source": [
    "![image-4.png](attachment:image-4.png)"
   ]
  },
  {
   "cell_type": "markdown",
   "id": "d4603a70",
   "metadata": {},
   "source": [
    ">- **Above snapshot of output provides month on month sales** in terms of \n",
    ">>- actual number of orders per state per month \n",
    ">>- percentage change in orders on a month on month basis for each state"
   ]
  },
  {
   "cell_type": "code",
   "execution_count": null,
   "id": "a3d3c15f",
   "metadata": {},
   "outputs": [],
   "source": [
    "# Month on month number of orders and percentge change by zip code \n",
    "\n",
    "query = '''\n",
    "select x.*,\n",
    "\n",
    "x.num_of_orders_per_region_per_month - lag(x.num_of_orders_per_region_per_month) \n",
    "over(partition by x.zip_code order by x.YEAR, x.month)\n",
    "/ lag(x.num_of_orders_per_region_per_month) \n",
    "over(partition by x.zip_code order by x.YEAR, x.month)*100 \n",
    "as month_on_month_perc_change\n",
    "\n",
    "from\n",
    "(SELECT g.geolocation_zip_code_prefix as zip_code,\n",
    "EXTRACT(YEAR FROM DATETIME(order_purchase_timestamp)) AS year,\n",
    "EXTRACT(MONTH FROM DATETIME(order_purchase_timestamp)) AS month,\n",
    "count(o.order_id) as num_of_orders_per_region_per_month\n",
    "\n",
    "FROM project.orders as o inner join `project.customers` as c \n",
    "on o.customer_id = c.customer_id\n",
    "\n",
    "left join project.geolocation as g \n",
    "on c.customer_zip_code_prefix = g.geolocation_zip_code_prefix\n",
    "\n",
    "group by g.geolocation_zip_code_prefix, EXTRACT(YEAR FROM DATETIME(order_purchase_timestamp)), \n",
    "EXTRACT(MONTH FROM DATETIME(order_purchase_timestamp))) x\n",
    "where x.zip_code is not null\n",
    "order by x.zip_code, x.YEAR, x.month\n",
    "limit 1000'''"
   ]
  },
  {
   "attachments": {
    "image-3.png": {
     "image/png": "[encoded data removed]"
    }
   },
   "cell_type": "markdown",
   "id": "f40dc5e5",
   "metadata": {},
   "source": [
    "![image-3.png](attachment:image-3.png)"
   ]
  },
  {
   "cell_type": "markdown",
   "id": "60b2ab2d",
   "metadata": {},
   "source": [
    ">- Above snapshot provides a month on month orders in terms of number of orders and monthly percentage change for **each region represented by zip code**."
   ]
  },
  {
   "cell_type": "markdown",
   "id": "7f8875de",
   "metadata": {},
   "source": [
    "### Question: How are customers distributed in Brazil?"
   ]
  },
  {
   "cell_type": "code",
   "execution_count": 357,
   "id": "c8bc0129",
   "metadata": {},
   "outputs": [
    {
     "data": {
      "text/html": [
       "<div>\n",
       "<style scoped>\n",
       "    .dataframe tbody tr th:only-of-type {\n",
       "        vertical-align: middle;\n",
       "    }\n",
       "\n",
       "    .dataframe tbody tr th {\n",
       "        vertical-align: top;\n",
       "    }\n",
       "\n",
       "    .dataframe thead th {\n",
       "        text-align: right;\n",
       "    }\n",
       "</style>\n",
       "<table border=\"1\" class=\"dataframe\">\n",
       "  <thead>\n",
       "    <tr style=\"text-align: right;\">\n",
       "      <th></th>\n",
       "      <th>customer_city</th>\n",
       "      <th>no_of_customer</th>\n",
       "    </tr>\n",
       "  </thead>\n",
       "  <tbody>\n",
       "    <tr>\n",
       "      <th>0</th>\n",
       "      <td>sao paulo</td>\n",
       "      <td>14984</td>\n",
       "    </tr>\n",
       "    <tr>\n",
       "      <th>1</th>\n",
       "      <td>rio de janeiro</td>\n",
       "      <td>6620</td>\n",
       "    </tr>\n",
       "    <tr>\n",
       "      <th>2</th>\n",
       "      <td>belo horizonte</td>\n",
       "      <td>2672</td>\n",
       "    </tr>\n",
       "    <tr>\n",
       "      <th>3</th>\n",
       "      <td>brasilia</td>\n",
       "      <td>2069</td>\n",
       "    </tr>\n",
       "    <tr>\n",
       "      <th>4</th>\n",
       "      <td>curitiba</td>\n",
       "      <td>1465</td>\n",
       "    </tr>\n",
       "  </tbody>\n",
       "</table>\n",
       "</div>"
      ],
      "text/plain": [
       "    customer_city  no_of_customer\n",
       "0       sao paulo           14984\n",
       "1  rio de janeiro            6620\n",
       "2  belo horizonte            2672\n",
       "3        brasilia            2069\n",
       "4        curitiba            1465"
      ]
     },
     "execution_count": 357,
     "metadata": {},
     "output_type": "execute_result"
    },
    {
     "data": {
      "image/png": "[encoded data removed]",
      "text/plain": [
       "<Figure size 720x360 with 1 Axes>"
      ]
     },
     "metadata": {
      "needs_background": "light"
     },
     "output_type": "display_data"
    }
   ],
   "source": [
    "# Distribution of unique customers in cities\n",
    "\n",
    "query = '''\n",
    "SELECT  \n",
    "customer_city,\n",
    "count(distinct customer_unique_id) as no_of_customer\n",
    "FROM customers \n",
    "group by customer_city\n",
    "order by count(customer_unique_id) desc'''\n",
    "\n",
    "res = pd.read_sql(query, conn)\n",
    "res.head(20).plot(kind= 'bar', x= 'customer_city', y = 'no_of_customer', rot = 45, figsize = [10,5])\n",
    "res.head()"
   ]
  },
  {
   "cell_type": "markdown",
   "id": "5caf7859",
   "metadata": {},
   "source": [
    ">- Highest number of customers are from populated cities like sao paulo and rio de janeiro.\n",
    ">- Sao paulo has disproportionately high customers at 15540 followed by Rio de janeiro at 6800\n",
    ">- Cities immediately following these have less than 2000\n",
    ">- Many cities in the lower end of dataset have only 1 customer"
   ]
  },
  {
   "cell_type": "code",
   "execution_count": 399,
   "id": "dfb25e31",
   "metadata": {},
   "outputs": [
    {
     "data": {
      "text/html": [
       "<div>\n",
       "<style scoped>\n",
       "    .dataframe tbody tr th:only-of-type {\n",
       "        vertical-align: middle;\n",
       "    }\n",
       "\n",
       "    .dataframe tbody tr th {\n",
       "        vertical-align: top;\n",
       "    }\n",
       "\n",
       "    .dataframe thead th {\n",
       "        text-align: right;\n",
       "    }\n",
       "</style>\n",
       "<table border=\"1\" class=\"dataframe\">\n",
       "  <thead>\n",
       "    <tr style=\"text-align: right;\">\n",
       "      <th></th>\n",
       "      <th>customer_state</th>\n",
       "      <th>no_of_customer</th>\n",
       "    </tr>\n",
       "  </thead>\n",
       "  <tbody>\n",
       "    <tr>\n",
       "      <th>0</th>\n",
       "      <td>SP</td>\n",
       "      <td>40302</td>\n",
       "    </tr>\n",
       "    <tr>\n",
       "      <th>1</th>\n",
       "      <td>RJ</td>\n",
       "      <td>12384</td>\n",
       "    </tr>\n",
       "    <tr>\n",
       "      <th>2</th>\n",
       "      <td>MG</td>\n",
       "      <td>11259</td>\n",
       "    </tr>\n",
       "    <tr>\n",
       "      <th>3</th>\n",
       "      <td>RS</td>\n",
       "      <td>5277</td>\n",
       "    </tr>\n",
       "    <tr>\n",
       "      <th>4</th>\n",
       "      <td>PR</td>\n",
       "      <td>4882</td>\n",
       "    </tr>\n",
       "  </tbody>\n",
       "</table>\n",
       "</div>"
      ],
      "text/plain": [
       "  customer_state  no_of_customer\n",
       "0             SP           40302\n",
       "1             RJ           12384\n",
       "2             MG           11259\n",
       "3             RS            5277\n",
       "4             PR            4882"
      ]
     },
     "execution_count": 399,
     "metadata": {},
     "output_type": "execute_result"
    },
    {
     "data": {
      "image/png": "[encoded data removed]",
      "text/plain": [
       "<Figure size 1080x720 with 3 Axes>"
      ]
     },
     "metadata": {
      "needs_background": "light"
     },
     "output_type": "display_data"
    }
   ],
   "source": [
    "# Distribution of unique customers in states\n",
    "\n",
    "query = '''\n",
    "SELECT  \n",
    "distinct customer_state,\n",
    "count(distinct customer_unique_id) as no_of_customer\n",
    "FROM customers \n",
    "group by customer_state\n",
    "order by count(customer_unique_id) desc'''\n",
    "\n",
    "res = pd.read_sql(query, conn)\n",
    "plt.figure(figsize= [15,10])\n",
    "plt.subplot(2,2,1)\n",
    "sns.barplot(x = 'customer_state', y = 'no_of_customer', data = res.head(20))\n",
    "plt.title('Bar Chart showing customers in top 20 states')\n",
    "plt.subplot(2,2,2)\n",
    "sns.histplot(x = res['no_of_customer'][1:])\n",
    "plt.title('Histogram excluding highest outlier value of 40000')\n",
    "plt.subplot(2,2,3)\n",
    "plt.pie(res['no_of_customer'],\n",
    "       labels = res['customer_state'],\n",
    "       startangle = 90,         #to change starting angle of first value\n",
    "       shadow = True, autopct='%.2f')\n",
    "res.head()"
   ]
  },
  {
   "cell_type": "markdown",
   "id": "ed3e4194",
   "metadata": {},
   "source": [
    ">- State SP has the most customers at 40300 which is more than 3 times of following state RJ at 12300\n",
    ">- As seen in histogram, almost 24 states have no_of_customers less than 5000\n",
    ">- Out of that almost 15 states have customers less than 1000\n",
    ">- **This shows that majority of customers (almost 64000) are residing in 3 states and rest of 30000 customers are distributed in remaining 24 states**"
   ]
  },
  {
   "cell_type": "markdown",
   "id": "5f6a4f5e",
   "metadata": {},
   "source": [
    "## Impact on Economy: Money movement by e-commerce by looking at order prices, freight and others\n",
    "### Quesion: Get % increase in cost of orders from 2017 to 2018 (include months between Jan to Aug only)"
   ]
  },
  {
   "cell_type": "code",
   "execution_count": null,
   "id": "13284fbe",
   "metadata": {},
   "outputs": [],
   "source": [
    "# Getting month on month change \n",
    "# in percentage and absolute terms in payment value \n",
    "# for orders between january and august only\n",
    "\n",
    "query = '''\n",
    "select x.*,\n",
    "round(((x.payment_value - \n",
    "lag(x.payment_value) over(order by x.YEAR, x.month)) /\n",
    "lag(x.payment_value) over(order by x.YEAR, x.month))*100,2) \n",
    "as month_on_month_perc_change\n",
    "\n",
    "from\n",
    "(SELECT \n",
    "EXTRACT(YEAR FROM DATETIME(o.order_purchase_timestamp)) AS year,\n",
    "EXTRACT(MONTH FROM DATETIME(o.order_purchase_timestamp)) AS month,\n",
    "round(sum(p.payment_value),2) as monthly_payment_value\n",
    "\n",
    "FROM project.orders as o \n",
    "left join project.payments as p on o.order_id = p.order_id\n",
    "\n",
    "group by EXTRACT(YEAR FROM DATETIME(o.order_purchase_timestamp)), \n",
    "EXTRACT(MONTH FROM DATETIME(o.order_purchase_timestamp)) )x\n",
    "where x.month between 1 and 8\n",
    "order by x.YEAR, x.month'''"
   ]
  },
  {
   "cell_type": "markdown",
   "id": "d67c607a",
   "metadata": {},
   "source": [
    "### Query result:\n",
    "|index|year|month|monthly\\_payment\\_value|month\\_on\\_month\\_perc\\_change|\n",
    "|---|---|---|---|---|\n",
    "|0|2017|1|138488\\.04|NaN|\n",
    "|1|2017|2|291908\\.01|110\\.78|\n",
    "|2|2017|3|449863\\.6|54\\.11|\n",
    "|3|2017|4|417788\\.03|-7\\.13|\n",
    "|4|2017|5|592918\\.82|41\\.92|\n",
    "|5|2017|6|511276\\.38|-13\\.77|\n",
    "|6|2017|7|592382\\.92|15\\.86|\n",
    "|7|2017|8|674396\\.32|13\\.84|\n",
    "|8|2018|1|1115004\\.18|65\\.33|\n",
    "|9|2018|2|992463\\.34|-10\\.99|\n",
    "|10|2018|3|1159652\\.12|16\\.85|\n",
    "|11|2018|4|1160785\\.48|0\\.1|\n",
    "|12|2018|5|1153982\\.15|-0\\.59|\n",
    "|13|2018|6|1023880\\.5|-11\\.27|\n",
    "|14|2018|7|1066540\\.75|4\\.17|\n",
    "|15|2018|8|1022425\\.32|-4\\.14|"
   ]
  },
  {
   "attachments": {
    "image-3.png": {
     "image/png": "[encoded data removed]"
    }
   },
   "cell_type": "markdown",
   "id": "82559a86",
   "metadata": {},
   "source": [
    "![image-3.png](attachment:image-3.png)"
   ]
  },
  {
   "cell_type": "markdown",
   "id": "a01cee87",
   "metadata": {},
   "source": [
    ">- order payment value by customers on monthly basis plotted above for years 2017 and 2018 betweeen months January to August\n",
    ">- It can be seen that payment value **increased consistently from January 2017 to january 2018** \n",
    ">- A flattening of curve can be seen **from January 2018 onwards showing slowing down of sale**\n",
    ">- january month in both the years see a huge rise in sales "
   ]
  },
  {
   "cell_type": "code",
   "execution_count": null,
   "id": "5cf7baf8",
   "metadata": {},
   "outputs": [],
   "source": [
    "# % increase in cost of orders on yearly basis\n",
    "# Considering months between january and august\n",
    "query = '''\n",
    "select x.year, round(sum(payment_value),2) as payment_value,\n",
    "round(((sum(payment_value) - \n",
    "lag(sum(payment_value)) over(order by x.year)) /\n",
    "lag(sum(payment_value)) over(order by x.year))*100,2) \n",
    "as year_onyear_perc_change\n",
    "\n",
    "from\n",
    "(SELECT \n",
    "EXTRACT(YEAR FROM DATETIME(o.order_purchase_timestamp)) AS year,\n",
    "EXTRACT(MONTH FROM DATETIME(o.order_purchase_timestamp)) AS month,\n",
    "round(sum(p.payment_value),2) as payment_value\n",
    "FROM project.orders as o \n",
    "left join project.payments as p on o.order_id = p.order_id\n",
    "\n",
    "group by EXTRACT(YEAR FROM DATETIME(o.order_purchase_timestamp)), \n",
    "EXTRACT(MONTH FROM DATETIME(o.order_purchase_timestamp)) )x  \n",
    "where x.month between 1 and 8\n",
    "group by x.YEAR\n",
    "order by x.year \n",
    "\n",
    "'''"
   ]
  },
  {
   "cell_type": "markdown",
   "id": "69fdba9e",
   "metadata": {},
   "source": [
    "### Query results:\n",
    "\n",
    "|index|year|payment\\_value|year\\_onyear\\_perc\\_change|\n",
    "|---|---|---|---|\n",
    "|0|2017|3669022\\.12|NaN|\n",
    "|1|2018|8694733\\.84|136\\.98|"
   ]
  },
  {
   "cell_type": "markdown",
   "id": "7db3e6a3",
   "metadata": {},
   "source": [
    ">- **2018 saw an 136% rise in payment value** compared to 2017 between Jan-Aug of each year\n",
    ">- But as seen previously from monthly chart, **rise mainly happened in January 2018** and sale value was flat or downtrending in rest of the year"
   ]
  },
  {
   "cell_type": "markdown",
   "id": "70dddb04",
   "metadata": {},
   "source": [
    "### Question: Mean & Sum of price and freight value by customer state"
   ]
  },
  {
   "cell_type": "code",
   "execution_count": null,
   "id": "9dfbae88",
   "metadata": {},
   "outputs": [],
   "source": [
    "query = '''\n",
    "select * from\n",
    "\n",
    "(select \n",
    "c.customer_state, round(avg(oi.price),2) as mean_price, \n",
    "round(sum(oi.price),2) as sum_price,\n",
    "round(avg(oi.freight_value),2) as mean_freight_value, \n",
    "round(sum(oi.freight_value),2) as sum_freight_value\n",
    "from\n",
    "project.order_items as oi join project.orders as o on oi.order_id = o.order_id\n",
    "join project.customers as c on c.customer_id = o.customer_id\n",
    "\n",
    "group by c.customer_state) as x\n",
    "order by x.sum_price desc'''"
   ]
  },
  {
   "cell_type": "markdown",
   "id": "2fd401a8",
   "metadata": {},
   "source": [
    "### Query results:\n",
    "\n",
    "|index|customer\\_state|mean\\_price|sum\\_price|mean\\_freight\\_value|sum\\_freight\\_value|\n",
    "|---|---|---|---|---|---|\n",
    "|0|SP|109\\.65|5202955\\.05|15\\.15|718723\\.07|\n",
    "|1|RJ|125\\.12|1824092\\.67|20\\.96|305589\\.31|\n",
    "|2|MG|120\\.75|1585308\\.03|20\\.63|270853\\.46|\n",
    "|3|RS|120\\.34|750304\\.02|21\\.74|135522\\.74|\n",
    "|4|PR|119\\.0|683083\\.76|20\\.53|117851\\.68|\n",
    "|5|SC|124\\.65|520553\\.34|21\\.47|89660\\.26|\n",
    "|6|BA|134\\.6|511349\\.99|26\\.36|100156\\.68|\n",
    "|7|DF|125\\.77|302603\\.94|21\\.04|50625\\.5|\n",
    "|8|GO|126\\.27|294591\\.95|22\\.77|53114\\.98|\n",
    "|9|ES|121\\.91|275037\\.31|22\\.06|49764\\.6|\n",
    "|10|PE|145\\.51|262788\\.03|32\\.92|59449\\.66|"
   ]
  },
  {
   "cell_type": "markdown",
   "id": "a16c2705",
   "metadata": {},
   "source": [
    ">- Top 10 customer states by sum of price of order items shown above\n",
    ">- sum and mean values of price of order items and freight value shown in columns\n",
    ">- **Highest priced products ordered by customers from SP** at 52 Lakhs followed by RJ by a high margin at 18 Lakhs\n",
    ">- **Highest mean price of products ordered by customers from PE although they are at lowest in terms of total price**. \n",
    ">- This shows fewer products of higher worth ordered from PE"
   ]
  },
  {
   "cell_type": "markdown",
   "id": "84c84721",
   "metadata": {},
   "source": [
    "## Analysis on sales, freight and delivery time\n",
    "### Question: Calculate days between purchasing, delivering and estimated delivery and create columns time_to_delivery and diff_estimated_delivery"
   ]
  },
  {
   "cell_type": "code",
   "execution_count": null,
   "id": "6f0a56a4",
   "metadata": {},
   "outputs": [],
   "source": [
    "query = '''\n",
    "select * from\n",
    "(SELECT order_id,\n",
    "date_diff(order_delivered_customer_date, order_purchase_timestamp,day) \n",
    "as time_to_delivery,\n",
    "date_diff(order_estimated_delivery_date, order_delivered_customer_date, day) \n",
    "as diff_estimated_delivery\n",
    "\n",
    "FROM project.orders\n",
    ") x\n",
    "where x.time_to_delivery is not null'''"
   ]
  },
  {
   "cell_type": "markdown",
   "id": "4d250ef3",
   "metadata": {},
   "source": [
    "### Query result:\n",
    "\n",
    "|index|order\\_id|time\\_to\\_delivery|diff\\_estimated\\_delivery|\n",
    "|---|---|---|---|\n",
    "|0|770d331c84e5b214bd9dc70a10b829d0|7|45|\n",
    "|1|1950d777989f6a877539f53795b4c3c3|30|-12|\n",
    "|2|2c45c33d2f9cb8ff8b1c86cc28c11c30|30|28|\n",
    "|3|dabf2b0e35b423f94618bf965fcb7514|7|44|\n",
    "|4|8beb59392e21af5eb9547ae1a9938d06|10|41|\n",
    "|5|65d1e226dfaeb8cdc42f665422522d14|35|16|\n",
    "|6|c158e9806f85a33877bdfd4f607b72e7|23|9|\n",
    "|7|b60b53ad0bb7dacacf2989fe27ad567a|12|-5|\n",
    "|8|c830f223aae08493ebecb52f29aa48ca|12|12|\n",
    "|9|a8aa2cd070eeac7e4368cae3d8222e2b|7|1|"
   ]
  },
  {
   "cell_type": "markdown",
   "id": "517d42c2",
   "metadata": {},
   "source": [
    ">- time_to_delivery = order_delivered_customer_date - order_purchase_timestamp  \n",
    ">- **shows days taken to deliver product**\n",
    ">- diff_estimated_delivery = order_estimated_delivery_date - order_delivered_customer_date\n",
    ">- **positive means delivery done earlier than estimated**\n",
    ">- Delated delivery vs on time plotted below based on above shown result"
   ]
  },
  {
   "attachments": {
    "image.png": {
     "image/png": "[encoded data removed]"
    }
   },
   "cell_type": "markdown",
   "id": "dda2bc7c",
   "metadata": {},
   "source": [
    ">- Most of the days, delivery was made before the estimated time\n",
    "![image.png](attachment:image.png)"
   ]
  },
  {
   "attachments": {
    "image.png": {
     "image/png": "[encoded data removed]"
    }
   },
   "cell_type": "markdown",
   "id": "646728fb",
   "metadata": {},
   "source": [
    ">**diff_estimated_delivery vs time_to_delivery**\n",
    "![image.png](attachment:image.png)\n",
    ">- As seen in scatter plot, **deliveries get delayed whenever time to delivery is higher**"
   ]
  },
  {
   "cell_type": "markdown",
   "id": "72b8e6a3",
   "metadata": {},
   "source": [
    "### Question: Group data by state, take mean of freight_value, time_to_delivery, diff_estimated_delivery"
   ]
  },
  {
   "cell_type": "code",
   "execution_count": null,
   "id": "af375545",
   "metadata": {},
   "outputs": [],
   "source": [
    "query = '''\n",
    "with time_delivery as (\n",
    "select * from\n",
    "(SELECT order_id,\n",
    "date_diff(order_delivered_customer_date, order_purchase_timestamp,day) \n",
    "as time_to_delivery,\n",
    "date_diff(order_estimated_delivery_date, order_delivered_customer_date, day) \n",
    "as diff_estimated_delivery\n",
    "\n",
    "FROM project.orders\n",
    ") x\n",
    "where x.time_to_delivery is not null\n",
    "),\n",
    "\n",
    "order_state as (\n",
    "  select o.order_id, s.seller_state as state, \n",
    "sum(o.freight_value) over(partition by s.seller_state) as state_freight_value\n",
    "  from `project.order_items` as o join project.sellers as s \n",
    "  on o.seller_id = s.seller_id\n",
    ")\n",
    "\n",
    "select os.state as state,\n",
    "round(avg(os.state_freight_value),2) avg_state_freight_value, \n",
    "round(avg(td.time_to_delivery),2) as mean_time_to_delivery,\n",
    "round(avg(td.diff_estimated_delivery),2) as mean_diff_estimated_delivery  \n",
    "from time_delivery as td join order_state as os \n",
    "on td.order_id = os.order_id\n",
    "group by os.state\n",
    "order by round(avg(os.state_freight_value),2) desc\n",
    "'''"
   ]
  },
  {
   "cell_type": "markdown",
   "id": "e5fc15f4",
   "metadata": {},
   "source": [
    "### Query result:\n",
    "\n",
    "|index|state|avg\\_state\\_freight\\_value|mean\\_time\\_to\\_delivery|mean\\_diff\\_estimated\\_delivery|\n",
    "|---|---|---|---|---|\n",
    "|0|RO|50\\.91|16\\.93|23\\.5|\n",
    "|1|CE|46\\.38|17\\.43|12\\.47|\n",
    "|2|PB|39\\.19|12\\.16|18\\.84|\n",
    "|3|PI|36\\.94|13\\.27|14\\.0|\n",
    "|4|ES|32\\.72|12\\.42|12\\.43|\n",
    "|5|MT|31\\.94|14\\.26|14\\.68|\n",
    "|6|SE|31\\.85|12\\.2|16\\.3|\n",
    "|7|BA|30\\.64|13\\.41|11\\.86|\n",
    "|8|MA|29\\.98|17\\.27|10\\.5|\n",
    "|9|PE|27\\.66|12\\.5|15\\.29|"
   ]
  },
  {
   "cell_type": "markdown",
   "id": "ca015598",
   "metadata": {},
   "source": [
    ">- State: Seller State\n",
    ">- avg_state_freight_value: Average of freight value for all orders for each state\n",
    ">- Analysis based on seller state and state-wise mean time_to_delivery, mean diff_estimated_delivery"
   ]
  },
  {
   "cell_type": "markdown",
   "id": "b39a339f",
   "metadata": {},
   "source": [
    "### Question: Top 5 states with highest average freight value"
   ]
  },
  {
   "cell_type": "code",
   "execution_count": null,
   "id": "db89a881",
   "metadata": {},
   "outputs": [],
   "source": [
    "query = '''\n",
    "with time_delivery as (\n",
    "select * from\n",
    "(SELECT order_id,\n",
    "date_diff(order_delivered_customer_date, order_purchase_timestamp,day) \n",
    "as time_to_delivery,\n",
    "date_diff(order_estimated_delivery_date, order_delivered_customer_date, day) \n",
    "as diff_estimated_delivery\n",
    "\n",
    "FROM project.orders\n",
    ") x\n",
    "where x.time_to_delivery is not null\n",
    "),\n",
    "\n",
    "order_state as (\n",
    "  select o.order_id, s.seller_state as state, \n",
    "avg(o.freight_value) over(partition by s.seller_state) as state_freight_value\n",
    "  from `project.order_items` as o join project.sellers as s \n",
    "  on o.seller_id = s.seller_id\n",
    ")\n",
    "\n",
    "select os.state as state,\n",
    "round(avg(os.state_freight_value),2) avg_state_freight_value, \n",
    "round(avg(td.time_to_delivery),2) as mean_time_to_delivery,\n",
    "round(avg(td.diff_estimated_delivery),2) as mean_diff_estimated_delivery  \n",
    "from time_delivery as td join order_state as os \n",
    "on td.order_id = os.order_id\n",
    "group by os.state\n",
    "order by round(avg(os.state_freight_value),2) desc\n",
    "limit 5 '''"
   ]
  },
  {
   "cell_type": "markdown",
   "id": "d8921250",
   "metadata": {},
   "source": [
    "### Query results:\n",
    "|index|state|avg\\_state\\_freight\\_value|mean\\_time\\_to\\_delivery|mean\\_diff\\_estimated\\_delivery|\n",
    "|---|---|---|---|---|\n",
    "|0|RO|50\\.91|16\\.93|23\\.5|\n",
    "|1|CE|46\\.38|17\\.43|12\\.47|\n",
    "|2|PB|39\\.19|12\\.16|18\\.84|\n",
    "|3|PI|36\\.94|13\\.27|14\\.0|\n",
    "|4|ES|32\\.72|12\\.42|12\\.43|"
   ]
  },
  {
   "cell_type": "markdown",
   "id": "35ec48c3",
   "metadata": {},
   "source": [
    "### Question: Top 5 states with lowest average time to delivery"
   ]
  },
  {
   "cell_type": "code",
   "execution_count": null,
   "id": "41fb0dc1",
   "metadata": {},
   "outputs": [],
   "source": [
    "query = '''\n",
    "with time_delivery as (\n",
    "select * from\n",
    "(SELECT order_id,\n",
    "date_diff(order_delivered_customer_date, order_purchase_timestamp,day) \n",
    "as time_to_delivery,\n",
    "date_diff(order_estimated_delivery_date, order_delivered_customer_date, day) \n",
    "as diff_estimated_delivery\n",
    "\n",
    "FROM project.orders\n",
    ") x\n",
    "where x.time_to_delivery is not null\n",
    "),\n",
    "\n",
    "order_state as (\n",
    "  select o.order_id, s.seller_state as state, \n",
    "avg(o.freight_value) over(partition by s.seller_state) as state_freight_value\n",
    "  from `project.order_items` as o join project.sellers as s \n",
    "  on o.seller_id = s.seller_id\n",
    ")\n",
    "\n",
    "select os.state as state,\n",
    "round(avg(os.state_freight_value),2) avg_state_freight_value, \n",
    "round(avg(td.time_to_delivery),2) as mean_time_to_delivery,\n",
    "round(avg(td.diff_estimated_delivery),2) as mean_diff_estimated_delivery  \n",
    "from time_delivery as td join order_state as os \n",
    "on td.order_id = os.order_id\n",
    "group by os.state\n",
    "order by round(avg(td.time_to_delivery),2) \n",
    "limit 5'''"
   ]
  },
  {
   "cell_type": "markdown",
   "id": "874cde15",
   "metadata": {},
   "source": [
    "### Query result:\n",
    "|index|state|avg\\_state\\_freight\\_value|mean\\_time\\_to\\_delivery|mean\\_diff\\_estimated\\_delivery|\n",
    "|---|---|---|---|---|\n",
    "|0|RS|26\\.03|11\\.09|15\\.37|\n",
    "|1|RJ|19\\.47|11\\.55|11\\.59|\n",
    "|2|SP|18\\.45|11\\.81|10\\.38|\n",
    "|3|MS|23\\.98|11\\.9|16\\.46|\n",
    "|4|DF|20\\.57|12\\.09|12\\.25|"
   ]
  },
  {
   "cell_type": "markdown",
   "id": "c3d94a26",
   "metadata": {},
   "source": [
    "### Question: Top 5 states where delivery is really fast compared to estimated date:"
   ]
  },
  {
   "cell_type": "code",
   "execution_count": null,
   "id": "716f6412",
   "metadata": {},
   "outputs": [],
   "source": [
    "query = '''\n",
    "with time_delivery as (\n",
    "select * from\n",
    "(SELECT order_id,\n",
    "date_diff(order_delivered_customer_date, order_purchase_timestamp,day) \n",
    "as time_to_delivery,\n",
    "date_diff(order_estimated_delivery_date, order_delivered_customer_date, day) \n",
    "as diff_estimated_delivery\n",
    "\n",
    "FROM project.orders\n",
    ") x\n",
    "where x.time_to_delivery is not null\n",
    "),\n",
    "\n",
    "order_state as (\n",
    "  select o.order_id, s.seller_state as state, \n",
    "avg(o.freight_value) over(partition by s.seller_state) as state_freight_value\n",
    "  from `project.order_items` as o join project.sellers as s \n",
    "  on o.seller_id = s.seller_id\n",
    ")\n",
    "\n",
    "select os.state as state,\n",
    "round(avg(os.state_freight_value),2) avg_state_freight_value, \n",
    "round(avg(td.time_to_delivery),2) as mean_time_to_delivery,\n",
    "round(avg(td.diff_estimated_delivery),2) as mean_diff_estimated_delivery  \n",
    "from time_delivery as td join order_state as os \n",
    "on td.order_id = os.order_id\n",
    "group by os.state\n",
    "order by round(avg(td.diff_estimated_delivery),2) desc \n",
    "limit 5 '''"
   ]
  },
  {
   "cell_type": "markdown",
   "id": "44ca10f5",
   "metadata": {},
   "source": [
    "### query results:\n",
    "|index|state|avg\\_state\\_freight\\_value|mean\\_time\\_to\\_delivery|mean\\_diff\\_estimated\\_delivery|\n",
    "|---|---|---|---|---|\n",
    "|0|RO|50\\.91|16\\.93|23\\.5|\n",
    "|1|PB|39\\.19|12\\.16|18\\.84|\n",
    "|2|MS|23\\.98|11\\.9|16\\.46|\n",
    "|3|SE|31\\.85|12\\.2|16\\.3|\n",
    "|4|RS|26\\.03|11\\.09|15\\.37|\n",
    "\n",
    "> mean_diff_estimated_delivery is difference between estimated and actual delivery  \n",
    "> higher value  means delivery was faster than estimated"
   ]
  },
  {
   "cell_type": "markdown",
   "id": "25a2ac15",
   "metadata": {},
   "source": [
    ">- Mean value of diff_estimated_delivery for all states combined is 12.4 \n",
    ">- State **RO has the highest avg freight value** while SP has the lowest\n",
    ">- State **PB has the fastest delivery** with 12.16 mean time_to_delivery\n",
    "\\>- State **RO has most deliveries before estimated time** and has highest gap between estimated and actual deliveries\n",
    ">- State **AM has the highest time to delivery** and is the **only state with more deliveries delayed than estimated** as seen from negative mean_diff_estimated_delivery \n",
    ">- State **RO has most deliveries before estimated time** and has highest gap between estimated and actual deliveries"
   ]
  },
  {
   "cell_type": "markdown",
   "id": "45df5fa9",
   "metadata": {},
   "source": [
    "## Payment type analysis:\n",
    "### Question: Month over Month count of orders for different payment types"
   ]
  },
  {
   "cell_type": "code",
   "execution_count": null,
   "id": "e49719b1",
   "metadata": {},
   "outputs": [],
   "source": [
    "query = '''\n",
    "select x.*, count(*) as count_payment_type\n",
    "from\n",
    "(SELECT EXTRACT(YEAR FROM DATETIME(o.order_purchase_timestamp)) AS year,\n",
    "EXTRACT(MONTH FROM DATETIME(o.order_purchase_timestamp)) AS month,\n",
    "p.payment_type\n",
    "FROM project.orders as o join project.payments as p\n",
    "on o.order_id = p.order_id\n",
    ") as  x\n",
    "group by x.year,x.month, x.payment_type\n",
    "order by x.YEAR, x.month'''"
   ]
  },
  {
   "cell_type": "markdown",
   "id": "a1927654",
   "metadata": {},
   "source": [
    "### Query result (part):\n",
    "\n",
    "|index|year|month|payment\\_type|monthly\\_count\\_payment\\_type|\n",
    "|---|---|---|---|---|\n",
    "|0|2016|9|credit\\_card|3|\n",
    "|1|2016|10|credit\\_card|254|\n",
    "|2|2016|10|UPI|63|\n",
    "|3|2016|10|debit\\_card|2|\n",
    "|4|2016|10|voucher|23|\n",
    "|5|2016|12|credit\\_card|1|\n",
    "|6|2017|1|voucher|61|\n",
    "|7|2017|1|UPI|197|\n",
    "|8|2017|1|credit\\_card|583|\n",
    "|9|2017|1|debit\\_card|9|"
   ]
  },
  {
   "cell_type": "markdown",
   "id": "6fdea010",
   "metadata": {},
   "source": [
    ">- Table displays number of orders for each payment type per month\n",
    ">- Rows are arranged sequentially by month from Sept 2016 onwards\n",
    ">- **Key (each row) for the dataset is a combination of Year-Month-Payment type**"
   ]
  },
  {
   "cell_type": "markdown",
   "id": "3175aac8",
   "metadata": {},
   "source": [
    "### Question: Distribution of payment installments and count of orders"
   ]
  },
  {
   "cell_type": "code",
   "execution_count": null,
   "id": "157481e1",
   "metadata": {},
   "outputs": [],
   "source": [
    "query = '''\n",
    "SELECT p.payment_installments, \n",
    "count(distinct o.order_id) as num_of_orders\n",
    "FROM project.orders as o join project.payments as p\n",
    "on o.order_id = p.order_id\n",
    "group by p.payment_installments'''"
   ]
  },
  {
   "cell_type": "markdown",
   "id": "1cf66392",
   "metadata": {},
   "source": [
    "### Query result:\n",
    "|index|payment\\_installments|num\\_of\\_orders|\n",
    "|---|---|---|\n",
    "|0|0|2|\n",
    "|1|1|49060|\n",
    "|2|2|12389|\n",
    "|3|3|10443|\n",
    "|4|4|7088|\n",
    "|5|5|5234|\n",
    "|6|6|3916|\n",
    "|7|7|1623|\n",
    "|8|8|4253|\n",
    "|9|9|644|"
   ]
  },
  {
   "attachments": {
    "image-2.png": {
     "image/png": "[encoded data removed]"
    }
   },
   "cell_type": "markdown",
   "id": "c4e5edde",
   "metadata": {},
   "source": [
    "![image-2.png](attachment:image-2.png)"
   ]
  },
  {
   "cell_type": "markdown",
   "id": "32e01639",
   "metadata": {},
   "source": [
    ">- Disproportionately high orders placed had a single installment which meant payment in one go. \n",
    ">- It is followed by 1 and 2 installments at approx. 12000 and 10000 orders respectively\n",
    ">- As number of installments increase, corresponding number of orders decrease \n",
    ">- Orders for 8 and 10 installments are higher than their neighbors 7,9 and 11 showing an anomaly \n",
    ">- max value for monthly installments is 24 although number of orders for installment above 11 are insignificant"
   ]
  },
  {
   "cell_type": "markdown",
   "id": "240d10b5",
   "metadata": {},
   "source": [
    "----\n",
    "____"
   ]
  },
  {
   "cell_type": "markdown",
   "id": "3e139f11",
   "metadata": {},
   "source": [
    "## Actionable Insights:\n",
    ">- Customer cities were only 4119 while dataset has 8011 cities. **No orders placed from roughly half of the cities**\n",
    ">- Selling happens from only 611 cities against ~8000 total cities and ~4000 customer cities. It shows **sellers are concentrated in few cities only**\n",
    ">- Sellers not present in 4 out of total 27 states\n",
    ">- Dataset has orders ranging from **September 2016 to October 2018**\n",
    ">- **Most products under bed table bath category at 3029**. Lowest number of products seen in Kitchen portable and food coach and La Cuisine at 10 products each. Top 5 categories have number of products greater than 2000. \n",
    ">- Approx **77000 reveiews out of approx 99000 were 4 and 5 stars** hinting at good quality of products sold\n",
    ">- Only approx 11000 reviews out of ~99000 reviews had title/content in it. \n",
    ">- **Payment values** mean lies at 154 and maximum value is 13664. Almost 100000 payment values lie in the less than 1000 range\n",
    ">-Most used **Payment Type** is credit card at 76000 orders followed by UPI at 20000 out of almost 100000 orders\n",
    ">- **Trend in E-Commerce**:\n",
    ">>1. Retailer has seen an almost consistent rise in e-commerce through the period September 2016 to Auguest 2018\n",
    ">>2. Number of orders as well as payment value of orders saw a consistent rise on a weekly as well as monthly basis\n",
    ">>3. Most orders concentrated between January and August\n",
    ">>4. Highest orders scene between the months May to August\n",
    ">>5. September to December see lower orders \n",
    ">>6. Highest number of orders placed during afternoon time. Lowest number of orders placed at Dawn. Morning, Evening and night have almost similar number of orders placed\n",
    ">- **Evolution of E-commerce orders in the Brazil region**:\n",
    ">>1. Customer State-wise and region-wise month on month number of orders and percentage change has been extracted for analysis at a granular level\n",
    ">>2. Highest number of customers are from populated cities like sao paulo and rio de janeiro.\n",
    "Sao paulo has disproportionately high customers at 15540 followed by Rio de janeiro at 6800\n",
    "Cities immediately following these have less than 2000\n",
    ">>3. State SP has the most customers at 40300 which is more than 3 times of following state RJ at 12300. As seen in histogram, almost 24 states have no_of_customers less than 5000. Out of that almost 15 states have customers less than 1000\n",
    ">>4. **This shows that majority of customers (almost 64000) are residing in 3 states and rest of 30000 customers are distributed in remaining 24 states**\n",
    ">- **Impact on Economy: Money movement by e-commerce by looking at order prices, freight and others**:\n",
    ">>1. It can be seen that payment value increased consistently from January 2017 to january 2018\n",
    "A flattening of curve can be seen from January 2018 onwards showing slowing down of sale.\n",
    ">>2. January month in both the years see a huge rise in sales\n",
    ">>3. **2018 saw an 136% rise in payment value compared to 2017 between Jan-Aug of each year**.\n",
    "But as seen previously from monthly chart, rise mainly happened in January 2018 and sale value was flat or downtrending in rest of the year\n",
    ">>4. **Highest priced products ordered by customers from SP** at 52 Lakhs followed by RJ by a high margin at 18 Lakhs\n",
    ">>5. **Highest mean price of products ordered by customers from PE although they are at lowest in terms of total price**. This shows fewer products of higher worth ordered from PE\n",
    ">- **Analysis on sales, freight and delivery time and categorisation based on sellers' states**\n",
    ">>1. Most of the deliveries (>95000) out of almost 100000 were delivered before estimated time\n",
    ">>2. Deliveries get delayed whenever time to delivery is higher\n",
    ">>3. State **RO has the highest avg freight value** while SP has the lowest\n",
    ">>4. State **PB has the fastest delivery** with 12.16 mean time_to_delivery\n",
    ">>5. State **RO has most deliveries before estimated time** and has highest gap between estimated and actual deliveries\n",
    ">>6. State **AM has the highest time to delivery** and is the **only state with more deliveries delayed than estimated** as seen from negative mean_diff_estimated_delivery \n",
    ">>7. State **RO has most deliveries before estimated time** and has highest gap between estimated and actual deliveries\n",
    ">- **Payment type analysis:**\n",
    ">>1. Month over Month count of orders for different payment types for each type extracted for reference. Key (each row) for the dataset is a combination of Year-Month-Payment type\n",
    ">>2. Disproportionately high orders placed had a single installment which meant payment in one go. It is followed by 1 and 2 installments at approx. 12000 and 10000 orders respectively. As number of installments increase, corresponding number of orders decrease"
   ]
  },
  {
   "cell_type": "markdown",
   "id": "6bf021f0",
   "metadata": {},
   "source": [
    "## Recommendations:\n",
    ">1. Customers and sellers are not uniformly distributed over all states or cities. **More penetration needed in states/citie with lower sellers/customers**. Reasons of low presence in those states could be investigated and addressed. Learnings from strategy in high penetration states like SP or city like sao Paulo can be implemented with\n",
    ">> Distributed sellers and customers can lead to lesser delivery time as well as lower cost of shipping improving cost to business as well as environment\n",
    "\n",
    ">2. Most reviews had only ratings and no title/content. **Written reviews can be promoted with incentives** so as to improve customer experience and promote sales.\n",
    "\n",
    ">3. **Most orders were focussed between January and August** in 2017 and 2018. Reasons behind lesser orders between September and December could be either seasonal or error in data collection. It **needs to be looked into and addressed promptly** for better and continuous analysis.\n",
    "\n",
    ">4. Highest number of orders seen between May and August but highest rise in order value seen in January in both years. This **seasonality needs to be utilised to maximum capacity with more variety and quantity of products along with special sales offers.** \n",
    ">>- Similar pattern is also observed in time of the day when most orders are executed. Afternoon time is when most orders are placed and limited time lightning deals could be introduced in those times to utilise this pattern to maximu potential\n",
    "\n",
    ">5. State wise and region-wise month on month order numbers can be used for **analysing patterns issues local to each state and region**. This can help devising region specific strategies for improving sales\n",
    "\n",
    ">6. **January 2018 onwards the sales (calculated based on payment value) saw falttening** and then a slump compared to 2017. Reasons could either be specific to business, region or global. It is not a healthy sign for business and **relevant action may be taken to avoid further slowdown in sales.** \n",
    "\n",
    ">7. Some states like SP at highest orders by payment value have very low mean value of products whereas state like PE has low total value but highest average value shows finer difference in demand for products. SP may have more number of orders of lower price while PE has fewer orders of much higher value. Such information is useful in **making supply chain decisions to create hubs for relevant products based on requirement**\n",
    ">>- Similar **analysis can be done on mean dimensions for products to improve handling infrastructure** at hubs.\n",
    "\n",
    ">8. Most deliveries (>90%) were made in time with mean difference in actual and estiated time of delivery being 12.4 days. **Estimated time calculation can be further optimised to get closer values to actual time** of delivery. This helps in improving predictability for customers, sellers and business too. \n",
    "\n",
    ">9. **States with higher freight value need improvement in transport infrastructure to reduce cost of shipping**. \n",
    "\n",
    ">10. Most payments were made in single or double installments. This signifies customers belong to higher income groups who can afford single installments. This is a sign of lower penetration into low income groups who prefer paying in installments. This provides opportunity for **growth of business by providing no-interest loans in partnership with banks to lower income groups**. It is an unexplored market and provides huge potential for growth. "
   ]
  }
 ],
 "metadata": {
  "kernelspec": {
   "display_name": "Python 3 (ipykernel)",
   "language": "python",
   "name": "python3"
  },
  "language_info": {
   "codemirror_mode": {
    "name": "ipython",
    "version": 3
   },
   "file_extension": ".py",
   "mimetype": "text/x-python",
   "name": "python",
   "nbconvert_exporter": "python",
   "pygments_lexer": "ipython3",
   "version": "3.9.13"
  }
 },
 "nbformat": 4,
 "nbformat_minor": 5
}
